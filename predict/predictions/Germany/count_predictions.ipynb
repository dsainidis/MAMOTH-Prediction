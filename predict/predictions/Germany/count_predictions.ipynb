{
 "cells": [
  {
   "cell_type": "code",
   "execution_count": 1,
   "id": "2873aa81",
   "metadata": {},
   "outputs": [],
   "source": [
    "import pandas as pd"
   ]
  },
  {
   "cell_type": "code",
   "execution_count": 2,
   "id": "e91e53be",
   "metadata": {},
   "outputs": [],
   "source": [
    "df = pd.read_csv('Culex_Germany_2025_06.csv')"
   ]
  },
  {
   "cell_type": "code",
   "execution_count": 3,
   "id": "2be3fd5c",
   "metadata": {},
   "outputs": [],
   "source": [
    "df['prediction'] = df['prediction'].astype(int)"
   ]
  },
  {
   "cell_type": "code",
   "execution_count": 4,
   "id": "8d27eddf",
   "metadata": {},
   "outputs": [
    {
     "data": {
      "application/vnd.microsoft.datawrangler.viewer.v0+json": {
       "columns": [
        {
         "name": "index",
         "rawType": "int64",
         "type": "integer"
        },
        {
         "name": "dt_placement",
         "rawType": "object",
         "type": "string"
        },
        {
         "name": "dt_prediction",
         "rawType": "object",
         "type": "string"
        },
        {
         "name": "week",
         "rawType": "int64",
         "type": "integer"
        },
        {
         "name": "x",
         "rawType": "float64",
         "type": "float"
        },
        {
         "name": "y",
         "rawType": "float64",
         "type": "float"
        },
        {
         "name": "prediction",
         "rawType": "int32",
         "type": "integer"
        },
        {
         "name": "entomological_features",
         "rawType": "bool",
         "type": "boolean"
        }
       ],
       "ref": "12407ae6-d748-4134-82d5-9e362fd26d42",
       "rows": [
        [
         "0",
         "2025-06-02",
         "2025-06-17",
         "25",
         "7.738332",
         "48.38952",
         "0",
         "True"
        ],
        [
         "1",
         "2025-06-02",
         "2025-06-17",
         "25",
         "7.975022",
         "48.76106",
         "0",
         "True"
        ],
        [
         "2",
         "2025-06-02",
         "2025-06-17",
         "25",
         "8.461007",
         "49.736475",
         "1",
         "True"
        ],
        [
         "3",
         "2025-06-02",
         "2025-06-17",
         "25",
         "8.516228",
         "49.862242",
         "1",
         "True"
        ],
        [
         "4",
         "2025-06-02",
         "2025-06-17",
         "25",
         "8.019239",
         "49.988008",
         "0",
         "True"
        ],
        [
         "5",
         "2025-06-02",
         "2025-06-17",
         "25",
         "7.764944",
         "48.44342",
         "1",
         "True"
        ],
        [
         "6",
         "2025-06-02",
         "2025-06-17",
         "25",
         "7.764944",
         "48.461387",
         "0",
         "True"
        ],
        [
         "7",
         "2025-06-02",
         "2025-06-17",
         "25",
         "7.764944",
         "48.479354",
         "0",
         "True"
        ],
        [
         "8",
         "2025-06-02",
         "2025-06-17",
         "25",
         "7.871394",
         "48.407487",
         "0",
         "True"
        ],
        [
         "9",
         "2025-06-02",
         "2025-06-17",
         "25",
         "7.975022",
         "48.743094",
         "1",
         "True"
        ],
        [
         "10",
         "2025-06-02",
         "2025-06-17",
         "25",
         "7.764944",
         "48.407487",
         "0",
         "True"
        ],
        [
         "11",
         "2025-06-02",
         "2025-06-17",
         "25",
         "8.322955",
         "49.970042",
         "7",
         "True"
        ],
        [
         "12",
         "2025-06-02",
         "2025-06-17",
         "25",
         "8.350565",
         "49.862242",
         "1",
         "True"
        ],
        [
         "13",
         "2025-06-02",
         "2025-06-17",
         "25",
         "8.350565",
         "49.934108",
         "0",
         "True"
        ],
        [
         "14",
         "2025-06-02",
         "2025-06-17",
         "25",
         "8.378176",
         "49.700541",
         "4",
         "True"
        ],
        [
         "15",
         "2025-06-02",
         "2025-06-17",
         "25",
         "8.390789",
         "49.74992",
         "4",
         "True"
        ],
        [
         "16",
         "2025-06-02",
         "2025-06-17",
         "25",
         "8.405786",
         "49.826308",
         "0",
         "True"
        ],
        [
         "17",
         "2025-06-02",
         "2025-06-17",
         "25",
         "8.461007",
         "49.808341",
         "3",
         "True"
        ],
        [
         "18",
         "2025-06-02",
         "2025-06-17",
         "25",
         "8.434188",
         "49.587528",
         "9",
         "True"
        ],
        [
         "19",
         "2025-06-02",
         "2025-06-17",
         "25",
         "7.296053",
         "49.246852",
         "0",
         "False"
        ],
        [
         "20",
         "2025-06-02",
         "2025-06-17",
         "25",
         "7.296053",
         "49.444486",
         "0",
         "False"
        ],
        [
         "21",
         "2025-06-02",
         "2025-06-17",
         "25",
         "7.296053",
         "49.426519",
         "0",
         "False"
        ],
        [
         "22",
         "2025-06-02",
         "2025-06-17",
         "25",
         "7.296053",
         "49.408552",
         "0",
         "False"
        ],
        [
         "23",
         "2025-06-02",
         "2025-06-17",
         "25",
         "7.296053",
         "49.390586",
         "1",
         "False"
        ],
        [
         "24",
         "2025-06-02",
         "2025-06-17",
         "25",
         "7.296053",
         "49.264819",
         "3",
         "False"
        ],
        [
         "25",
         "2025-06-02",
         "2025-06-17",
         "25",
         "7.268684",
         "49.552286",
         "0",
         "False"
        ],
        [
         "26",
         "2025-06-02",
         "2025-06-17",
         "25",
         "7.296053",
         "49.228886",
         "0",
         "False"
        ],
        [
         "27",
         "2025-06-02",
         "2025-06-17",
         "25",
         "7.296053",
         "49.210919",
         "0",
         "False"
        ],
        [
         "28",
         "2025-06-02",
         "2025-06-17",
         "25",
         "7.268684",
         "49.462453",
         "0",
         "False"
        ],
        [
         "29",
         "2025-06-02",
         "2025-06-17",
         "25",
         "7.268684",
         "49.444486",
         "0",
         "False"
        ],
        [
         "30",
         "2025-06-02",
         "2025-06-17",
         "25",
         "7.323421",
         "49.480419",
         "0",
         "False"
        ],
        [
         "31",
         "2025-06-02",
         "2025-06-17",
         "25",
         "7.296053",
         "49.480419",
         "0",
         "False"
        ],
        [
         "32",
         "2025-06-02",
         "2025-06-17",
         "25",
         "7.296053",
         "49.462453",
         "0",
         "False"
        ],
        [
         "33",
         "2025-06-02",
         "2025-06-17",
         "25",
         "7.323421",
         "49.264819",
         "0",
         "False"
        ],
        [
         "34",
         "2025-06-02",
         "2025-06-17",
         "25",
         "7.296053",
         "49.498386",
         "0",
         "False"
        ],
        [
         "35",
         "2025-06-02",
         "2025-06-17",
         "25",
         "7.296053",
         "49.516353",
         "0",
         "False"
        ],
        [
         "36",
         "2025-06-02",
         "2025-06-17",
         "25",
         "7.296053",
         "49.534319",
         "0",
         "False"
        ],
        [
         "37",
         "2025-06-02",
         "2025-06-17",
         "25",
         "7.296053",
         "49.552286",
         "0",
         "False"
        ],
        [
         "38",
         "2025-06-02",
         "2025-06-17",
         "25",
         "7.323421",
         "49.192952",
         "2",
         "False"
        ],
        [
         "39",
         "2025-06-02",
         "2025-06-17",
         "25",
         "7.323421",
         "49.210919",
         "1",
         "False"
        ],
        [
         "40",
         "2025-06-02",
         "2025-06-17",
         "25",
         "7.323421",
         "49.228886",
         "0",
         "False"
        ],
        [
         "41",
         "2025-06-02",
         "2025-06-17",
         "25",
         "7.323421",
         "49.246852",
         "0",
         "False"
        ],
        [
         "42",
         "2025-06-02",
         "2025-06-17",
         "25",
         "7.323421",
         "49.516353",
         "0",
         "False"
        ],
        [
         "43",
         "2025-06-02",
         "2025-06-17",
         "25",
         "7.323421",
         "49.390586",
         "0",
         "False"
        ],
        [
         "44",
         "2025-06-02",
         "2025-06-17",
         "25",
         "7.323421",
         "49.408552",
         "1",
         "False"
        ],
        [
         "45",
         "2025-06-02",
         "2025-06-17",
         "25",
         "7.323421",
         "49.426519",
         "1",
         "False"
        ],
        [
         "46",
         "2025-06-02",
         "2025-06-17",
         "25",
         "7.323421",
         "49.444486",
         "1",
         "False"
        ],
        [
         "47",
         "2025-06-02",
         "2025-06-17",
         "25",
         "7.323421",
         "49.462453",
         "0",
         "False"
        ],
        [
         "48",
         "2025-06-02",
         "2025-06-17",
         "25",
         "7.323421",
         "49.498386",
         "0",
         "False"
        ],
        [
         "49",
         "2025-06-02",
         "2025-06-17",
         "25",
         "7.35079",
         "49.570253",
         "0",
         "False"
        ]
       ],
       "shape": {
        "columns": 7,
        "rows": 8047
       }
      },
      "text/html": [
       "<div>\n",
       "<style scoped>\n",
       "    .dataframe tbody tr th:only-of-type {\n",
       "        vertical-align: middle;\n",
       "    }\n",
       "\n",
       "    .dataframe tbody tr th {\n",
       "        vertical-align: top;\n",
       "    }\n",
       "\n",
       "    .dataframe thead th {\n",
       "        text-align: right;\n",
       "    }\n",
       "</style>\n",
       "<table border=\"1\" class=\"dataframe\">\n",
       "  <thead>\n",
       "    <tr style=\"text-align: right;\">\n",
       "      <th></th>\n",
       "      <th>dt_placement</th>\n",
       "      <th>dt_prediction</th>\n",
       "      <th>week</th>\n",
       "      <th>x</th>\n",
       "      <th>y</th>\n",
       "      <th>prediction</th>\n",
       "      <th>entomological_features</th>\n",
       "    </tr>\n",
       "  </thead>\n",
       "  <tbody>\n",
       "    <tr>\n",
       "      <th>0</th>\n",
       "      <td>2025-06-02</td>\n",
       "      <td>2025-06-17</td>\n",
       "      <td>25</td>\n",
       "      <td>7.738332</td>\n",
       "      <td>48.389520</td>\n",
       "      <td>0</td>\n",
       "      <td>True</td>\n",
       "    </tr>\n",
       "    <tr>\n",
       "      <th>1</th>\n",
       "      <td>2025-06-02</td>\n",
       "      <td>2025-06-17</td>\n",
       "      <td>25</td>\n",
       "      <td>7.975022</td>\n",
       "      <td>48.761060</td>\n",
       "      <td>0</td>\n",
       "      <td>True</td>\n",
       "    </tr>\n",
       "    <tr>\n",
       "      <th>2</th>\n",
       "      <td>2025-06-02</td>\n",
       "      <td>2025-06-17</td>\n",
       "      <td>25</td>\n",
       "      <td>8.461007</td>\n",
       "      <td>49.736475</td>\n",
       "      <td>1</td>\n",
       "      <td>True</td>\n",
       "    </tr>\n",
       "    <tr>\n",
       "      <th>3</th>\n",
       "      <td>2025-06-02</td>\n",
       "      <td>2025-06-17</td>\n",
       "      <td>25</td>\n",
       "      <td>8.516228</td>\n",
       "      <td>49.862242</td>\n",
       "      <td>1</td>\n",
       "      <td>True</td>\n",
       "    </tr>\n",
       "    <tr>\n",
       "      <th>4</th>\n",
       "      <td>2025-06-02</td>\n",
       "      <td>2025-06-17</td>\n",
       "      <td>25</td>\n",
       "      <td>8.019239</td>\n",
       "      <td>49.988008</td>\n",
       "      <td>0</td>\n",
       "      <td>True</td>\n",
       "    </tr>\n",
       "    <tr>\n",
       "      <th>...</th>\n",
       "      <td>...</td>\n",
       "      <td>...</td>\n",
       "      <td>...</td>\n",
       "      <td>...</td>\n",
       "      <td>...</td>\n",
       "      <td>...</td>\n",
       "      <td>...</td>\n",
       "    </tr>\n",
       "    <tr>\n",
       "      <th>8042</th>\n",
       "      <td>2025-06-02</td>\n",
       "      <td>2025-06-17</td>\n",
       "      <td>25</td>\n",
       "      <td>9.593037</td>\n",
       "      <td>50.401242</td>\n",
       "      <td>2</td>\n",
       "      <td>False</td>\n",
       "    </tr>\n",
       "    <tr>\n",
       "      <th>8043</th>\n",
       "      <td>2025-06-02</td>\n",
       "      <td>2025-06-17</td>\n",
       "      <td>25</td>\n",
       "      <td>9.595608</td>\n",
       "      <td>49.371928</td>\n",
       "      <td>2</td>\n",
       "      <td>False</td>\n",
       "    </tr>\n",
       "    <tr>\n",
       "      <th>8044</th>\n",
       "      <td>2025-06-02</td>\n",
       "      <td>2025-06-17</td>\n",
       "      <td>25</td>\n",
       "      <td>9.595608</td>\n",
       "      <td>49.389895</td>\n",
       "      <td>2</td>\n",
       "      <td>False</td>\n",
       "    </tr>\n",
       "    <tr>\n",
       "      <th>8045</th>\n",
       "      <td>2025-06-02</td>\n",
       "      <td>2025-06-17</td>\n",
       "      <td>25</td>\n",
       "      <td>9.595608</td>\n",
       "      <td>49.407861</td>\n",
       "      <td>3</td>\n",
       "      <td>False</td>\n",
       "    </tr>\n",
       "    <tr>\n",
       "      <th>8046</th>\n",
       "      <td>2025-06-02</td>\n",
       "      <td>2025-06-17</td>\n",
       "      <td>25</td>\n",
       "      <td>9.595608</td>\n",
       "      <td>49.443795</td>\n",
       "      <td>0</td>\n",
       "      <td>False</td>\n",
       "    </tr>\n",
       "  </tbody>\n",
       "</table>\n",
       "<p>8047 rows × 7 columns</p>\n",
       "</div>"
      ],
      "text/plain": [
       "     dt_placement dt_prediction  week         x          y  prediction  \\\n",
       "0      2025-06-02    2025-06-17    25  7.738332  48.389520           0   \n",
       "1      2025-06-02    2025-06-17    25  7.975022  48.761060           0   \n",
       "2      2025-06-02    2025-06-17    25  8.461007  49.736475           1   \n",
       "3      2025-06-02    2025-06-17    25  8.516228  49.862242           1   \n",
       "4      2025-06-02    2025-06-17    25  8.019239  49.988008           0   \n",
       "...           ...           ...   ...       ...        ...         ...   \n",
       "8042   2025-06-02    2025-06-17    25  9.593037  50.401242           2   \n",
       "8043   2025-06-02    2025-06-17    25  9.595608  49.371928           2   \n",
       "8044   2025-06-02    2025-06-17    25  9.595608  49.389895           2   \n",
       "8045   2025-06-02    2025-06-17    25  9.595608  49.407861           3   \n",
       "8046   2025-06-02    2025-06-17    25  9.595608  49.443795           0   \n",
       "\n",
       "      entomological_features  \n",
       "0                       True  \n",
       "1                       True  \n",
       "2                       True  \n",
       "3                       True  \n",
       "4                       True  \n",
       "...                      ...  \n",
       "8042                   False  \n",
       "8043                   False  \n",
       "8044                   False  \n",
       "8045                   False  \n",
       "8046                   False  \n",
       "\n",
       "[8047 rows x 7 columns]"
      ]
     },
     "execution_count": 4,
     "metadata": {},
     "output_type": "execute_result"
    }
   ],
   "source": [
    "df"
   ]
  },
  {
   "cell_type": "code",
   "execution_count": 5,
   "id": "3263abc6",
   "metadata": {},
   "outputs": [
    {
     "data": {
      "text/plain": [
       "0"
      ]
     },
     "execution_count": 5,
     "metadata": {},
     "output_type": "execute_result"
    }
   ],
   "source": [
    "df.prediction.min()"
   ]
  },
  {
   "cell_type": "code",
   "execution_count": 6,
   "id": "9c040bcd",
   "metadata": {},
   "outputs": [
    {
     "data": {
      "text/plain": [
       "9"
      ]
     },
     "execution_count": 6,
     "metadata": {},
     "output_type": "execute_result"
    }
   ],
   "source": [
    "df.prediction.max()"
   ]
  },
  {
   "cell_type": "code",
   "execution_count": 7,
   "id": "0f692b67",
   "metadata": {},
   "outputs": [
    {
     "data": {
      "text/plain": [
       "5137"
      ]
     },
     "execution_count": 7,
     "metadata": {},
     "output_type": "execute_result"
    }
   ],
   "source": [
    "count_low = df['prediction'].between(0, 1).sum()\n",
    "count_low"
   ]
  },
  {
   "cell_type": "code",
   "execution_count": 8,
   "id": "93dfd109",
   "metadata": {},
   "outputs": [
    {
     "data": {
      "text/plain": [
       "2541"
      ]
     },
     "execution_count": 8,
     "metadata": {},
     "output_type": "execute_result"
    }
   ],
   "source": [
    "count_mid = df['prediction'].between(2, 5).sum()\n",
    "count_mid"
   ]
  },
  {
   "cell_type": "code",
   "execution_count": 9,
   "id": "fa54c1b3",
   "metadata": {},
   "outputs": [
    {
     "data": {
      "text/plain": [
       "369"
      ]
     },
     "execution_count": 9,
     "metadata": {},
     "output_type": "execute_result"
    }
   ],
   "source": [
    "count_high = df['prediction'].between(6, 9).sum()\n",
    "count_high"
   ]
  },
  {
   "cell_type": "code",
   "execution_count": null,
   "id": "7bc36871",
   "metadata": {},
   "outputs": [],
   "source": []
  }
 ],
 "metadata": {
  "kernelspec": {
   "display_name": "noa_eywa",
   "language": "python",
   "name": "python3"
  },
  "language_info": {
   "codemirror_mode": {
    "name": "ipython",
    "version": 3
   },
   "file_extension": ".py",
   "mimetype": "text/x-python",
   "name": "python",
   "nbconvert_exporter": "python",
   "pygments_lexer": "ipython3",
   "version": "3.11.7"
  }
 },
 "nbformat": 4,
 "nbformat_minor": 5
}
