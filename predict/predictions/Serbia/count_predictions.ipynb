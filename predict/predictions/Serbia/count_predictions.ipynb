{
 "cells": [
  {
   "cell_type": "code",
   "execution_count": 1,
   "id": "2873aa81",
   "metadata": {},
   "outputs": [],
   "source": [
    "import pandas as pd"
   ]
  },
  {
   "cell_type": "code",
   "execution_count": 2,
   "id": "e91e53be",
   "metadata": {},
   "outputs": [],
   "source": [
    "df = pd.read_csv('Culex_Serbia_2025_06.csv')"
   ]
  },
  {
   "cell_type": "code",
   "execution_count": 3,
   "id": "2be3fd5c",
   "metadata": {},
   "outputs": [],
   "source": [
    "df['prediction'] = df['prediction'].astype(int)"
   ]
  },
  {
   "cell_type": "code",
   "execution_count": 4,
   "id": "8d27eddf",
   "metadata": {},
   "outputs": [
    {
     "data": {
      "application/vnd.microsoft.datawrangler.viewer.v0+json": {
       "columns": [
        {
         "name": "index",
         "rawType": "int64",
         "type": "integer"
        },
        {
         "name": "dt_placement",
         "rawType": "object",
         "type": "string"
        },
        {
         "name": "dt_prediction",
         "rawType": "object",
         "type": "string"
        },
        {
         "name": "week",
         "rawType": "int64",
         "type": "integer"
        },
        {
         "name": "x",
         "rawType": "float64",
         "type": "float"
        },
        {
         "name": "y",
         "rawType": "float64",
         "type": "float"
        },
        {
         "name": "prediction",
         "rawType": "int32",
         "type": "integer"
        },
        {
         "name": "entomological_features",
         "rawType": "bool",
         "type": "boolean"
        }
       ],
       "ref": "2c9878e0-fa00-404f-9240-93fb36abb51a",
       "rows": [
        [
         "0",
         "2025-06-02",
         "2025-06-17",
         "25",
         "18.821323",
         "45.874258",
         "5",
         "False"
        ],
        [
         "1",
         "2025-06-02",
         "2025-06-17",
         "25",
         "20.368362",
         "45.984688",
         "5",
         "False"
        ],
        [
         "2",
         "2025-06-02",
         "2025-06-17",
         "25",
         "20.368362",
         "45.966721",
         "5",
         "False"
        ],
        [
         "3",
         "2025-06-02",
         "2025-06-17",
         "25",
         "20.368362",
         "45.948754",
         "6",
         "False"
        ],
        [
         "4",
         "2025-06-02",
         "2025-06-17",
         "25",
         "20.368362",
         "45.930788",
         "7",
         "False"
        ],
        [
         "5",
         "2025-06-02",
         "2025-06-17",
         "25",
         "20.368362",
         "45.912821",
         "5",
         "False"
        ],
        [
         "6",
         "2025-06-02",
         "2025-06-17",
         "25",
         "20.368362",
         "45.894854",
         "7",
         "False"
        ],
        [
         "7",
         "2025-06-02",
         "2025-06-17",
         "25",
         "20.368362",
         "45.876888",
         "5",
         "False"
        ],
        [
         "8",
         "2025-06-02",
         "2025-06-17",
         "25",
         "20.368362",
         "45.858921",
         "6",
         "False"
        ],
        [
         "9",
         "2025-06-02",
         "2025-06-17",
         "25",
         "20.368362",
         "46.002654",
         "6",
         "False"
        ],
        [
         "10",
         "2025-06-02",
         "2025-06-17",
         "25",
         "20.368362",
         "45.840954",
         "6",
         "False"
        ],
        [
         "11",
         "2025-06-02",
         "2025-06-17",
         "25",
         "20.368362",
         "45.805021",
         "5",
         "False"
        ],
        [
         "12",
         "2025-06-02",
         "2025-06-17",
         "25",
         "20.368362",
         "45.787054",
         "6",
         "False"
        ],
        [
         "13",
         "2025-06-02",
         "2025-06-17",
         "25",
         "20.368362",
         "45.769088",
         "6",
         "False"
        ],
        [
         "14",
         "2025-06-02",
         "2025-06-17",
         "25",
         "20.368362",
         "45.751121",
         "5",
         "False"
        ],
        [
         "15",
         "2025-06-02",
         "2025-06-17",
         "25",
         "20.368362",
         "45.733154",
         "7",
         "False"
        ],
        [
         "16",
         "2025-06-02",
         "2025-06-17",
         "25",
         "20.368362",
         "45.679254",
         "7",
         "False"
        ],
        [
         "17",
         "2025-06-02",
         "2025-06-17",
         "25",
         "20.368362",
         "45.661287",
         "7",
         "False"
        ],
        [
         "18",
         "2025-06-02",
         "2025-06-17",
         "25",
         "20.368362",
         "45.643321",
         "7",
         "False"
        ],
        [
         "19",
         "2025-06-02",
         "2025-06-17",
         "25",
         "20.368362",
         "45.822988",
         "5",
         "False"
        ],
        [
         "20",
         "2025-06-02",
         "2025-06-17",
         "25",
         "20.368362",
         "45.625354",
         "7",
         "False"
        ],
        [
         "21",
         "2025-06-02",
         "2025-06-17",
         "25",
         "20.368362",
         "46.020621",
         "5",
         "False"
        ],
        [
         "22",
         "2025-06-02",
         "2025-06-17",
         "25",
         "20.38978",
         "45.129644",
         "5",
         "False"
        ],
        [
         "23",
         "2025-06-02",
         "2025-06-17",
         "25",
         "20.38978",
         "45.453045",
         "6",
         "False"
        ],
        [
         "24",
         "2025-06-02",
         "2025-06-17",
         "25",
         "20.38978",
         "45.435078",
         "7",
         "False"
        ],
        [
         "25",
         "2025-06-02",
         "2025-06-17",
         "25",
         "20.38978",
         "45.417112",
         "7",
         "False"
        ],
        [
         "26",
         "2025-06-02",
         "2025-06-17",
         "25",
         "20.38978",
         "45.399145",
         "6",
         "False"
        ],
        [
         "27",
         "2025-06-02",
         "2025-06-17",
         "25",
         "20.38978",
         "45.381178",
         "6",
         "False"
        ],
        [
         "28",
         "2025-06-02",
         "2025-06-17",
         "25",
         "20.38978",
         "45.363211",
         "7",
         "False"
        ],
        [
         "29",
         "2025-06-02",
         "2025-06-17",
         "25",
         "20.38978",
         "45.345245",
         "6",
         "False"
        ],
        [
         "30",
         "2025-06-02",
         "2025-06-17",
         "25",
         "20.38978",
         "45.327278",
         "7",
         "False"
        ],
        [
         "31",
         "2025-06-02",
         "2025-06-17",
         "25",
         "20.38978",
         "45.111678",
         "5",
         "False"
        ],
        [
         "32",
         "2025-06-02",
         "2025-06-17",
         "25",
         "20.38978",
         "45.309311",
         "6",
         "False"
        ],
        [
         "33",
         "2025-06-02",
         "2025-06-17",
         "25",
         "20.38978",
         "45.273378",
         "7",
         "False"
        ],
        [
         "34",
         "2025-06-02",
         "2025-06-17",
         "25",
         "20.38978",
         "45.255411",
         "8",
         "False"
        ],
        [
         "35",
         "2025-06-02",
         "2025-06-17",
         "25",
         "20.38978",
         "45.237445",
         "7",
         "False"
        ],
        [
         "36",
         "2025-06-02",
         "2025-06-17",
         "25",
         "20.38978",
         "45.219478",
         "6",
         "False"
        ],
        [
         "37",
         "2025-06-02",
         "2025-06-17",
         "25",
         "20.38978",
         "45.201511",
         "7",
         "False"
        ],
        [
         "38",
         "2025-06-02",
         "2025-06-17",
         "25",
         "20.38978",
         "45.183545",
         "6",
         "False"
        ],
        [
         "39",
         "2025-06-02",
         "2025-06-17",
         "25",
         "20.38978",
         "45.165578",
         "6",
         "False"
        ],
        [
         "40",
         "2025-06-02",
         "2025-06-17",
         "25",
         "20.38978",
         "45.147611",
         "5",
         "False"
        ],
        [
         "41",
         "2025-06-02",
         "2025-06-17",
         "25",
         "20.38978",
         "45.291345",
         "5",
         "False"
        ],
        [
         "42",
         "2025-06-02",
         "2025-06-17",
         "25",
         "20.38978",
         "45.471012",
         "7",
         "False"
        ],
        [
         "43",
         "2025-06-02",
         "2025-06-17",
         "25",
         "20.368362",
         "45.607387",
         "7",
         "False"
        ],
        [
         "44",
         "2025-06-02",
         "2025-06-17",
         "25",
         "20.364342",
         "45.578812",
         "7",
         "False"
        ],
        [
         "45",
         "2025-06-02",
         "2025-06-17",
         "25",
         "20.364342",
         "45.165578",
         "6",
         "False"
        ],
        [
         "46",
         "2025-06-02",
         "2025-06-17",
         "25",
         "20.364342",
         "45.147611",
         "5",
         "False"
        ],
        [
         "47",
         "2025-06-02",
         "2025-06-17",
         "25",
         "20.364342",
         "45.129644",
         "5",
         "False"
        ],
        [
         "48",
         "2025-06-02",
         "2025-06-17",
         "25",
         "20.364342",
         "45.111678",
         "6",
         "False"
        ],
        [
         "49",
         "2025-06-02",
         "2025-06-17",
         "25",
         "20.364342",
         "45.093711",
         "5",
         "False"
        ]
       ],
       "shape": {
        "columns": 7,
        "rows": 5692
       }
      },
      "text/html": [
       "<div>\n",
       "<style scoped>\n",
       "    .dataframe tbody tr th:only-of-type {\n",
       "        vertical-align: middle;\n",
       "    }\n",
       "\n",
       "    .dataframe tbody tr th {\n",
       "        vertical-align: top;\n",
       "    }\n",
       "\n",
       "    .dataframe thead th {\n",
       "        text-align: right;\n",
       "    }\n",
       "</style>\n",
       "<table border=\"1\" class=\"dataframe\">\n",
       "  <thead>\n",
       "    <tr style=\"text-align: right;\">\n",
       "      <th></th>\n",
       "      <th>dt_placement</th>\n",
       "      <th>dt_prediction</th>\n",
       "      <th>week</th>\n",
       "      <th>x</th>\n",
       "      <th>y</th>\n",
       "      <th>prediction</th>\n",
       "      <th>entomological_features</th>\n",
       "    </tr>\n",
       "  </thead>\n",
       "  <tbody>\n",
       "    <tr>\n",
       "      <th>0</th>\n",
       "      <td>2025-06-02</td>\n",
       "      <td>2025-06-17</td>\n",
       "      <td>25</td>\n",
       "      <td>18.821323</td>\n",
       "      <td>45.874258</td>\n",
       "      <td>5</td>\n",
       "      <td>False</td>\n",
       "    </tr>\n",
       "    <tr>\n",
       "      <th>1</th>\n",
       "      <td>2025-06-02</td>\n",
       "      <td>2025-06-17</td>\n",
       "      <td>25</td>\n",
       "      <td>20.368362</td>\n",
       "      <td>45.984688</td>\n",
       "      <td>5</td>\n",
       "      <td>False</td>\n",
       "    </tr>\n",
       "    <tr>\n",
       "      <th>2</th>\n",
       "      <td>2025-06-02</td>\n",
       "      <td>2025-06-17</td>\n",
       "      <td>25</td>\n",
       "      <td>20.368362</td>\n",
       "      <td>45.966721</td>\n",
       "      <td>5</td>\n",
       "      <td>False</td>\n",
       "    </tr>\n",
       "    <tr>\n",
       "      <th>3</th>\n",
       "      <td>2025-06-02</td>\n",
       "      <td>2025-06-17</td>\n",
       "      <td>25</td>\n",
       "      <td>20.368362</td>\n",
       "      <td>45.948754</td>\n",
       "      <td>6</td>\n",
       "      <td>False</td>\n",
       "    </tr>\n",
       "    <tr>\n",
       "      <th>4</th>\n",
       "      <td>2025-06-02</td>\n",
       "      <td>2025-06-17</td>\n",
       "      <td>25</td>\n",
       "      <td>20.368362</td>\n",
       "      <td>45.930788</td>\n",
       "      <td>7</td>\n",
       "      <td>False</td>\n",
       "    </tr>\n",
       "    <tr>\n",
       "      <th>...</th>\n",
       "      <td>...</td>\n",
       "      <td>...</td>\n",
       "      <td>...</td>\n",
       "      <td>...</td>\n",
       "      <td>...</td>\n",
       "      <td>...</td>\n",
       "      <td>...</td>\n",
       "    </tr>\n",
       "    <tr>\n",
       "      <th>5687</th>\n",
       "      <td>2025-06-02</td>\n",
       "      <td>2025-06-17</td>\n",
       "      <td>25</td>\n",
       "      <td>19.721146</td>\n",
       "      <td>46.005199</td>\n",
       "      <td>7</td>\n",
       "      <td>False</td>\n",
       "    </tr>\n",
       "    <tr>\n",
       "      <th>5688</th>\n",
       "      <td>2025-06-02</td>\n",
       "      <td>2025-06-17</td>\n",
       "      <td>25</td>\n",
       "      <td>19.721146</td>\n",
       "      <td>45.987233</td>\n",
       "      <td>5</td>\n",
       "      <td>False</td>\n",
       "    </tr>\n",
       "    <tr>\n",
       "      <th>5689</th>\n",
       "      <td>2025-06-02</td>\n",
       "      <td>2025-06-17</td>\n",
       "      <td>25</td>\n",
       "      <td>19.721146</td>\n",
       "      <td>45.969266</td>\n",
       "      <td>6</td>\n",
       "      <td>False</td>\n",
       "    </tr>\n",
       "    <tr>\n",
       "      <th>5690</th>\n",
       "      <td>2025-06-02</td>\n",
       "      <td>2025-06-17</td>\n",
       "      <td>25</td>\n",
       "      <td>19.717785</td>\n",
       "      <td>45.416316</td>\n",
       "      <td>6</td>\n",
       "      <td>False</td>\n",
       "    </tr>\n",
       "    <tr>\n",
       "      <th>5691</th>\n",
       "      <td>2025-06-02</td>\n",
       "      <td>2025-06-17</td>\n",
       "      <td>25</td>\n",
       "      <td>21.540455</td>\n",
       "      <td>45.160274</td>\n",
       "      <td>7</td>\n",
       "      <td>False</td>\n",
       "    </tr>\n",
       "  </tbody>\n",
       "</table>\n",
       "<p>5692 rows × 7 columns</p>\n",
       "</div>"
      ],
      "text/plain": [
       "     dt_placement dt_prediction  week          x          y  prediction  \\\n",
       "0      2025-06-02    2025-06-17    25  18.821323  45.874258           5   \n",
       "1      2025-06-02    2025-06-17    25  20.368362  45.984688           5   \n",
       "2      2025-06-02    2025-06-17    25  20.368362  45.966721           5   \n",
       "3      2025-06-02    2025-06-17    25  20.368362  45.948754           6   \n",
       "4      2025-06-02    2025-06-17    25  20.368362  45.930788           7   \n",
       "...           ...           ...   ...        ...        ...         ...   \n",
       "5687   2025-06-02    2025-06-17    25  19.721146  46.005199           7   \n",
       "5688   2025-06-02    2025-06-17    25  19.721146  45.987233           5   \n",
       "5689   2025-06-02    2025-06-17    25  19.721146  45.969266           6   \n",
       "5690   2025-06-02    2025-06-17    25  19.717785  45.416316           6   \n",
       "5691   2025-06-02    2025-06-17    25  21.540455  45.160274           7   \n",
       "\n",
       "      entomological_features  \n",
       "0                      False  \n",
       "1                      False  \n",
       "2                      False  \n",
       "3                      False  \n",
       "4                      False  \n",
       "...                      ...  \n",
       "5687                   False  \n",
       "5688                   False  \n",
       "5689                   False  \n",
       "5690                   False  \n",
       "5691                   False  \n",
       "\n",
       "[5692 rows x 7 columns]"
      ]
     },
     "execution_count": 4,
     "metadata": {},
     "output_type": "execute_result"
    }
   ],
   "source": [
    "df"
   ]
  },
  {
   "cell_type": "code",
   "execution_count": 5,
   "id": "3263abc6",
   "metadata": {},
   "outputs": [
    {
     "data": {
      "text/plain": [
       "1"
      ]
     },
     "execution_count": 5,
     "metadata": {},
     "output_type": "execute_result"
    }
   ],
   "source": [
    "df.prediction.min()"
   ]
  },
  {
   "cell_type": "code",
   "execution_count": 6,
   "id": "9c040bcd",
   "metadata": {},
   "outputs": [
    {
     "data": {
      "text/plain": [
       "9"
      ]
     },
     "execution_count": 6,
     "metadata": {},
     "output_type": "execute_result"
    }
   ],
   "source": [
    "df.prediction.max()"
   ]
  },
  {
   "cell_type": "code",
   "execution_count": 7,
   "id": "0f692b67",
   "metadata": {},
   "outputs": [
    {
     "data": {
      "text/plain": [
       "6"
      ]
     },
     "execution_count": 7,
     "metadata": {},
     "output_type": "execute_result"
    }
   ],
   "source": [
    "count_low = df['prediction'].between(0, 1).sum()\n",
    "count_low"
   ]
  },
  {
   "cell_type": "code",
   "execution_count": 8,
   "id": "93dfd109",
   "metadata": {},
   "outputs": [
    {
     "data": {
      "text/plain": [
       "2414"
      ]
     },
     "execution_count": 8,
     "metadata": {},
     "output_type": "execute_result"
    }
   ],
   "source": [
    "count_mid = df['prediction'].between(2, 5).sum()\n",
    "count_mid"
   ]
  },
  {
   "cell_type": "code",
   "execution_count": 9,
   "id": "fa54c1b3",
   "metadata": {},
   "outputs": [
    {
     "data": {
      "text/plain": [
       "3272"
      ]
     },
     "execution_count": 9,
     "metadata": {},
     "output_type": "execute_result"
    }
   ],
   "source": [
    "count_high = df['prediction'].between(6, 9).sum()\n",
    "count_high"
   ]
  },
  {
   "cell_type": "code",
   "execution_count": null,
   "id": "7bc36871",
   "metadata": {},
   "outputs": [],
   "source": []
  }
 ],
 "metadata": {
  "kernelspec": {
   "display_name": "noa_eywa",
   "language": "python",
   "name": "python3"
  },
  "language_info": {
   "codemirror_mode": {
    "name": "ipython",
    "version": 3
   },
   "file_extension": ".py",
   "mimetype": "text/x-python",
   "name": "python",
   "nbconvert_exporter": "python",
   "pygments_lexer": "ipython3",
   "version": "3.11.7"
  }
 },
 "nbformat": 4,
 "nbformat_minor": 5
}
