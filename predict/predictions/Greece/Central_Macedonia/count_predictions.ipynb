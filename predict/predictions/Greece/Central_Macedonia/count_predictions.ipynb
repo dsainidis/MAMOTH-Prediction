{
 "cells": [
  {
   "cell_type": "code",
   "execution_count": 1,
   "id": "2873aa81",
   "metadata": {},
   "outputs": [],
   "source": [
    "import pandas as pd"
   ]
  },
  {
   "cell_type": "code",
   "execution_count": 2,
   "id": "e91e53be",
   "metadata": {},
   "outputs": [],
   "source": [
    "df = pd.read_csv('Culex_Greece_CM_2025_06.csv')"
   ]
  },
  {
   "cell_type": "code",
   "execution_count": 3,
   "id": "2be3fd5c",
   "metadata": {},
   "outputs": [],
   "source": [
    "df['prediction'] = df['prediction'].astype(int)"
   ]
  },
  {
   "cell_type": "code",
   "execution_count": 4,
   "id": "8d27eddf",
   "metadata": {},
   "outputs": [
    {
     "data": {
      "application/vnd.microsoft.datawrangler.viewer.v0+json": {
       "columns": [
        {
         "name": "index",
         "rawType": "int64",
         "type": "integer"
        },
        {
         "name": "dt_placement",
         "rawType": "object",
         "type": "string"
        },
        {
         "name": "dt_prediction",
         "rawType": "object",
         "type": "string"
        },
        {
         "name": "week",
         "rawType": "int64",
         "type": "integer"
        },
        {
         "name": "x",
         "rawType": "float64",
         "type": "float"
        },
        {
         "name": "y",
         "rawType": "float64",
         "type": "float"
        },
        {
         "name": "prediction",
         "rawType": "int32",
         "type": "integer"
        },
        {
         "name": "entomological_features",
         "rawType": "bool",
         "type": "boolean"
        }
       ],
       "ref": "58c22528-ff6a-4f97-9c30-bd5da6b01069",
       "rows": [
        [
         "0",
         "2025-06-02",
         "2025-06-17",
         "25",
         "22.13754",
         "40.689448",
         "2",
         "False"
        ],
        [
         "1",
         "2025-06-02",
         "2025-06-17",
         "25",
         "21.786205",
         "40.725381",
         "2",
         "False"
        ],
        [
         "2",
         "2025-06-02",
         "2025-06-17",
         "25",
         "21.739361",
         "40.851148",
         "3",
         "False"
        ],
        [
         "3",
         "2025-06-02",
         "2025-06-17",
         "25",
         "21.762783",
         "40.779281",
         "1",
         "False"
        ],
        [
         "4",
         "2025-06-02",
         "2025-06-17",
         "25",
         "21.786205",
         "40.779281",
         "2",
         "False"
        ],
        [
         "5",
         "2025-06-02",
         "2025-06-17",
         "25",
         "21.762783",
         "40.797248",
         "1",
         "False"
        ],
        [
         "6",
         "2025-06-02",
         "2025-06-17",
         "25",
         "21.762783",
         "40.815215",
         "1",
         "False"
        ],
        [
         "7",
         "2025-06-02",
         "2025-06-17",
         "25",
         "21.762783",
         "40.851148",
         "2",
         "False"
        ],
        [
         "8",
         "2025-06-02",
         "2025-06-17",
         "25",
         "21.786205",
         "40.743348",
         "3",
         "False"
        ],
        [
         "9",
         "2025-06-02",
         "2025-06-17",
         "25",
         "21.739361",
         "40.815215",
         "2",
         "False"
        ],
        [
         "10",
         "2025-06-02",
         "2025-06-17",
         "25",
         "21.786205",
         "40.761315",
         "1",
         "False"
        ],
        [
         "11",
         "2025-06-02",
         "2025-06-17",
         "25",
         "21.809628",
         "40.976915",
         "2",
         "False"
        ],
        [
         "12",
         "2025-06-02",
         "2025-06-17",
         "25",
         "21.83305",
         "40.689448",
         "2",
         "False"
        ],
        [
         "13",
         "2025-06-02",
         "2025-06-17",
         "25",
         "21.83305",
         "40.707415",
         "2",
         "False"
        ],
        [
         "14",
         "2025-06-02",
         "2025-06-17",
         "25",
         "21.856472",
         "40.940982",
         "4",
         "False"
        ],
        [
         "15",
         "2025-06-02",
         "2025-06-17",
         "25",
         "21.856472",
         "40.797248",
         "2",
         "False"
        ],
        [
         "16",
         "2025-06-02",
         "2025-06-17",
         "25",
         "21.739361",
         "40.833181",
         "3",
         "False"
        ],
        [
         "17",
         "2025-06-02",
         "2025-06-17",
         "25",
         "21.739361",
         "40.797248",
         "2",
         "False"
        ],
        [
         "18",
         "2025-06-02",
         "2025-06-17",
         "25",
         "21.856472",
         "40.833181",
         "3",
         "False"
        ],
        [
         "19",
         "2025-06-02",
         "2025-06-17",
         "25",
         "21.809628",
         "40.923015",
         "3",
         "False"
        ],
        [
         "20",
         "2025-06-02",
         "2025-06-17",
         "25",
         "21.809628",
         "40.743348",
         "2",
         "False"
        ],
        [
         "21",
         "2025-06-02",
         "2025-06-17",
         "25",
         "21.809628",
         "40.779281",
         "3",
         "False"
        ],
        [
         "22",
         "2025-06-02",
         "2025-06-17",
         "25",
         "21.786205",
         "40.815215",
         "2",
         "False"
        ],
        [
         "23",
         "2025-06-02",
         "2025-06-17",
         "25",
         "21.809628",
         "40.797248",
         "1",
         "False"
        ],
        [
         "24",
         "2025-06-02",
         "2025-06-17",
         "25",
         "21.809628",
         "40.815215",
         "2",
         "False"
        ],
        [
         "25",
         "2025-06-02",
         "2025-06-17",
         "25",
         "21.809628",
         "40.905048",
         "3",
         "False"
        ],
        [
         "26",
         "2025-06-02",
         "2025-06-17",
         "25",
         "21.809628",
         "40.940982",
         "3",
         "False"
        ],
        [
         "27",
         "2025-06-02",
         "2025-06-17",
         "25",
         "21.739361",
         "40.779281",
         "2",
         "False"
        ],
        [
         "28",
         "2025-06-02",
         "2025-06-17",
         "25",
         "21.809628",
         "40.958948",
         "3",
         "False"
        ],
        [
         "29",
         "2025-06-02",
         "2025-06-17",
         "25",
         "21.786205",
         "40.869115",
         "3",
         "False"
        ],
        [
         "30",
         "2025-06-02",
         "2025-06-17",
         "25",
         "21.786205",
         "40.797248",
         "3",
         "False"
        ],
        [
         "31",
         "2025-06-02",
         "2025-06-17",
         "25",
         "21.879894",
         "40.707415",
         "3",
         "False"
        ],
        [
         "32",
         "2025-06-02",
         "2025-06-17",
         "25",
         "21.739361",
         "40.869115",
         "3",
         "False"
        ],
        [
         "33",
         "2025-06-02",
         "2025-06-17",
         "25",
         "21.715938",
         "40.869115",
         "2",
         "False"
        ],
        [
         "34",
         "2025-06-02",
         "2025-06-17",
         "25",
         "21.856472",
         "40.815215",
         "2",
         "False"
        ],
        [
         "35",
         "2025-06-02",
         "2025-06-17",
         "25",
         "21.856472",
         "40.851148",
         "4",
         "False"
        ],
        [
         "36",
         "2025-06-02",
         "2025-06-17",
         "25",
         "21.809628",
         "40.707415",
         "2",
         "False"
        ],
        [
         "37",
         "2025-06-02",
         "2025-06-17",
         "25",
         "21.83305",
         "40.761315",
         "1",
         "False"
        ],
        [
         "38",
         "2025-06-02",
         "2025-06-17",
         "25",
         "21.83305",
         "40.905048",
         "3",
         "False"
        ],
        [
         "39",
         "2025-06-02",
         "2025-06-17",
         "25",
         "21.83305",
         "40.851148",
         "3",
         "False"
        ],
        [
         "40",
         "2025-06-02",
         "2025-06-17",
         "25",
         "21.83305",
         "40.833181",
         "3",
         "False"
        ],
        [
         "41",
         "2025-06-02",
         "2025-06-17",
         "25",
         "21.83305",
         "40.815215",
         "2",
         "False"
        ],
        [
         "42",
         "2025-06-02",
         "2025-06-17",
         "25",
         "21.83305",
         "40.797248",
         "2",
         "False"
        ],
        [
         "43",
         "2025-06-02",
         "2025-06-17",
         "25",
         "21.83305",
         "40.779281",
         "3",
         "False"
        ],
        [
         "44",
         "2025-06-02",
         "2025-06-17",
         "25",
         "21.83305",
         "40.743348",
         "3",
         "False"
        ],
        [
         "45",
         "2025-06-02",
         "2025-06-17",
         "25",
         "21.83305",
         "40.940982",
         "3",
         "False"
        ],
        [
         "46",
         "2025-06-02",
         "2025-06-17",
         "25",
         "21.926739",
         "41.102682",
         "4",
         "False"
        ],
        [
         "47",
         "2025-06-02",
         "2025-06-17",
         "25",
         "21.950161",
         "40.473848",
         "4",
         "False"
        ],
        [
         "48",
         "2025-06-02",
         "2025-06-17",
         "25",
         "21.950161",
         "40.509781",
         "3",
         "False"
        ],
        [
         "49",
         "2025-06-02",
         "2025-06-17",
         "25",
         "21.997006",
         "41.048782",
         "4",
         "False"
        ]
       ],
       "shape": {
        "columns": 7,
        "rows": 4560
       }
      },
      "text/html": [
       "<div>\n",
       "<style scoped>\n",
       "    .dataframe tbody tr th:only-of-type {\n",
       "        vertical-align: middle;\n",
       "    }\n",
       "\n",
       "    .dataframe tbody tr th {\n",
       "        vertical-align: top;\n",
       "    }\n",
       "\n",
       "    .dataframe thead th {\n",
       "        text-align: right;\n",
       "    }\n",
       "</style>\n",
       "<table border=\"1\" class=\"dataframe\">\n",
       "  <thead>\n",
       "    <tr style=\"text-align: right;\">\n",
       "      <th></th>\n",
       "      <th>dt_placement</th>\n",
       "      <th>dt_prediction</th>\n",
       "      <th>week</th>\n",
       "      <th>x</th>\n",
       "      <th>y</th>\n",
       "      <th>prediction</th>\n",
       "      <th>entomological_features</th>\n",
       "    </tr>\n",
       "  </thead>\n",
       "  <tbody>\n",
       "    <tr>\n",
       "      <th>0</th>\n",
       "      <td>2025-06-02</td>\n",
       "      <td>2025-06-17</td>\n",
       "      <td>25</td>\n",
       "      <td>22.137540</td>\n",
       "      <td>40.689448</td>\n",
       "      <td>2</td>\n",
       "      <td>False</td>\n",
       "    </tr>\n",
       "    <tr>\n",
       "      <th>1</th>\n",
       "      <td>2025-06-02</td>\n",
       "      <td>2025-06-17</td>\n",
       "      <td>25</td>\n",
       "      <td>21.786205</td>\n",
       "      <td>40.725381</td>\n",
       "      <td>2</td>\n",
       "      <td>False</td>\n",
       "    </tr>\n",
       "    <tr>\n",
       "      <th>2</th>\n",
       "      <td>2025-06-02</td>\n",
       "      <td>2025-06-17</td>\n",
       "      <td>25</td>\n",
       "      <td>21.739361</td>\n",
       "      <td>40.851148</td>\n",
       "      <td>3</td>\n",
       "      <td>False</td>\n",
       "    </tr>\n",
       "    <tr>\n",
       "      <th>3</th>\n",
       "      <td>2025-06-02</td>\n",
       "      <td>2025-06-17</td>\n",
       "      <td>25</td>\n",
       "      <td>21.762783</td>\n",
       "      <td>40.779281</td>\n",
       "      <td>1</td>\n",
       "      <td>False</td>\n",
       "    </tr>\n",
       "    <tr>\n",
       "      <th>4</th>\n",
       "      <td>2025-06-02</td>\n",
       "      <td>2025-06-17</td>\n",
       "      <td>25</td>\n",
       "      <td>21.786205</td>\n",
       "      <td>40.779281</td>\n",
       "      <td>2</td>\n",
       "      <td>False</td>\n",
       "    </tr>\n",
       "    <tr>\n",
       "      <th>...</th>\n",
       "      <td>...</td>\n",
       "      <td>...</td>\n",
       "      <td>...</td>\n",
       "      <td>...</td>\n",
       "      <td>...</td>\n",
       "      <td>...</td>\n",
       "      <td>...</td>\n",
       "    </tr>\n",
       "    <tr>\n",
       "      <th>4555</th>\n",
       "      <td>2025-06-02</td>\n",
       "      <td>2025-06-17</td>\n",
       "      <td>25</td>\n",
       "      <td>24.222123</td>\n",
       "      <td>40.312147</td>\n",
       "      <td>2</td>\n",
       "      <td>False</td>\n",
       "    </tr>\n",
       "    <tr>\n",
       "      <th>4556</th>\n",
       "      <td>2025-06-02</td>\n",
       "      <td>2025-06-17</td>\n",
       "      <td>25</td>\n",
       "      <td>24.245545</td>\n",
       "      <td>40.186381</td>\n",
       "      <td>3</td>\n",
       "      <td>False</td>\n",
       "    </tr>\n",
       "    <tr>\n",
       "      <th>4557</th>\n",
       "      <td>2025-06-02</td>\n",
       "      <td>2025-06-17</td>\n",
       "      <td>25</td>\n",
       "      <td>24.245545</td>\n",
       "      <td>40.258247</td>\n",
       "      <td>1</td>\n",
       "      <td>False</td>\n",
       "    </tr>\n",
       "    <tr>\n",
       "      <th>4558</th>\n",
       "      <td>2025-06-02</td>\n",
       "      <td>2025-06-17</td>\n",
       "      <td>25</td>\n",
       "      <td>24.362657</td>\n",
       "      <td>40.168414</td>\n",
       "      <td>1</td>\n",
       "      <td>False</td>\n",
       "    </tr>\n",
       "    <tr>\n",
       "      <th>4559</th>\n",
       "      <td>2025-06-02</td>\n",
       "      <td>2025-06-17</td>\n",
       "      <td>25</td>\n",
       "      <td>24.386079</td>\n",
       "      <td>40.150447</td>\n",
       "      <td>2</td>\n",
       "      <td>False</td>\n",
       "    </tr>\n",
       "  </tbody>\n",
       "</table>\n",
       "<p>4560 rows × 7 columns</p>\n",
       "</div>"
      ],
      "text/plain": [
       "     dt_placement dt_prediction  week          x          y  prediction  \\\n",
       "0      2025-06-02    2025-06-17    25  22.137540  40.689448           2   \n",
       "1      2025-06-02    2025-06-17    25  21.786205  40.725381           2   \n",
       "2      2025-06-02    2025-06-17    25  21.739361  40.851148           3   \n",
       "3      2025-06-02    2025-06-17    25  21.762783  40.779281           1   \n",
       "4      2025-06-02    2025-06-17    25  21.786205  40.779281           2   \n",
       "...           ...           ...   ...        ...        ...         ...   \n",
       "4555   2025-06-02    2025-06-17    25  24.222123  40.312147           2   \n",
       "4556   2025-06-02    2025-06-17    25  24.245545  40.186381           3   \n",
       "4557   2025-06-02    2025-06-17    25  24.245545  40.258247           1   \n",
       "4558   2025-06-02    2025-06-17    25  24.362657  40.168414           1   \n",
       "4559   2025-06-02    2025-06-17    25  24.386079  40.150447           2   \n",
       "\n",
       "      entomological_features  \n",
       "0                      False  \n",
       "1                      False  \n",
       "2                      False  \n",
       "3                      False  \n",
       "4                      False  \n",
       "...                      ...  \n",
       "4555                   False  \n",
       "4556                   False  \n",
       "4557                   False  \n",
       "4558                   False  \n",
       "4559                   False  \n",
       "\n",
       "[4560 rows x 7 columns]"
      ]
     },
     "execution_count": 4,
     "metadata": {},
     "output_type": "execute_result"
    }
   ],
   "source": [
    "df"
   ]
  },
  {
   "cell_type": "code",
   "execution_count": 5,
   "id": "3263abc6",
   "metadata": {},
   "outputs": [
    {
     "data": {
      "text/plain": [
       "0"
      ]
     },
     "execution_count": 5,
     "metadata": {},
     "output_type": "execute_result"
    }
   ],
   "source": [
    "df.prediction.min()"
   ]
  },
  {
   "cell_type": "code",
   "execution_count": 6,
   "id": "9c040bcd",
   "metadata": {},
   "outputs": [
    {
     "data": {
      "text/plain": [
       "8"
      ]
     },
     "execution_count": 6,
     "metadata": {},
     "output_type": "execute_result"
    }
   ],
   "source": [
    "df.prediction.max()"
   ]
  },
  {
   "cell_type": "code",
   "execution_count": 7,
   "id": "0f692b67",
   "metadata": {},
   "outputs": [
    {
     "data": {
      "text/plain": [
       "966"
      ]
     },
     "execution_count": 7,
     "metadata": {},
     "output_type": "execute_result"
    }
   ],
   "source": [
    "count_low = df['prediction'].between(0, 1).sum()\n",
    "count_low"
   ]
  },
  {
   "cell_type": "code",
   "execution_count": 8,
   "id": "93dfd109",
   "metadata": {},
   "outputs": [
    {
     "data": {
      "text/plain": [
       "3367"
      ]
     },
     "execution_count": 8,
     "metadata": {},
     "output_type": "execute_result"
    }
   ],
   "source": [
    "count_mid = df['prediction'].between(2, 5).sum()\n",
    "count_mid"
   ]
  },
  {
   "cell_type": "code",
   "execution_count": 9,
   "id": "fa54c1b3",
   "metadata": {},
   "outputs": [
    {
     "data": {
      "text/plain": [
       "227"
      ]
     },
     "execution_count": 9,
     "metadata": {},
     "output_type": "execute_result"
    }
   ],
   "source": [
    "count_high = df['prediction'].between(6, 9).sum()\n",
    "count_high"
   ]
  },
  {
   "cell_type": "code",
   "execution_count": null,
   "id": "7bc36871",
   "metadata": {},
   "outputs": [],
   "source": []
  }
 ],
 "metadata": {
  "kernelspec": {
   "display_name": "noa_eywa",
   "language": "python",
   "name": "python3"
  },
  "language_info": {
   "codemirror_mode": {
    "name": "ipython",
    "version": 3
   },
   "file_extension": ".py",
   "mimetype": "text/x-python",
   "name": "python",
   "nbconvert_exporter": "python",
   "pygments_lexer": "ipython3",
   "version": "3.11.7"
  }
 },
 "nbformat": 4,
 "nbformat_minor": 5
}
