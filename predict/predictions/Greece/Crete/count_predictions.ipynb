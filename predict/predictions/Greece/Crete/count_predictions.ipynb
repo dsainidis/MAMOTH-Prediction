{
 "cells": [
  {
   "cell_type": "code",
   "execution_count": 1,
   "id": "2873aa81",
   "metadata": {},
   "outputs": [],
   "source": [
    "import pandas as pd"
   ]
  },
  {
   "cell_type": "code",
   "execution_count": 2,
   "id": "e91e53be",
   "metadata": {},
   "outputs": [],
   "source": [
    "df = pd.read_csv('Culex_Greece_Crete_2025_06.csv')"
   ]
  },
  {
   "cell_type": "code",
   "execution_count": 3,
   "id": "2be3fd5c",
   "metadata": {},
   "outputs": [],
   "source": [
    "df['prediction'] = df['prediction'].astype(int)"
   ]
  },
  {
   "cell_type": "code",
   "execution_count": 4,
   "id": "8d27eddf",
   "metadata": {},
   "outputs": [
    {
     "data": {
      "application/vnd.microsoft.datawrangler.viewer.v0+json": {
       "columns": [
        {
         "name": "index",
         "rawType": "int64",
         "type": "integer"
        },
        {
         "name": "dt_placement",
         "rawType": "object",
         "type": "string"
        },
        {
         "name": "dt_prediction",
         "rawType": "object",
         "type": "string"
        },
        {
         "name": "week",
         "rawType": "int64",
         "type": "integer"
        },
        {
         "name": "x",
         "rawType": "float64",
         "type": "float"
        },
        {
         "name": "y",
         "rawType": "float64",
         "type": "float"
        },
        {
         "name": "prediction",
         "rawType": "int32",
         "type": "integer"
        },
        {
         "name": "entomological_features",
         "rawType": "bool",
         "type": "boolean"
        }
       ],
       "ref": "f2732cfe-3f0e-4398-80ae-6843e46d56e5",
       "rows": [
        [
         "0",
         "2025-06-02",
         "2025-06-17",
         "25",
         "23.525905",
         "35.29615",
         "3",
         "False"
        ],
        [
         "1",
         "2025-06-02",
         "2025-06-17",
         "25",
         "25.210703",
         "35.062583",
         "4",
         "False"
        ],
        [
         "2",
         "2025-06-02",
         "2025-06-17",
         "25",
         "25.210703",
         "35.044617",
         "4",
         "False"
        ],
        [
         "3",
         "2025-06-02",
         "2025-06-17",
         "25",
         "25.210703",
         "35.02665",
         "5",
         "False"
        ],
        [
         "4",
         "2025-06-02",
         "2025-06-17",
         "25",
         "25.210703",
         "35.008683",
         "5",
         "False"
        ],
        [
         "5",
         "2025-06-02",
         "2025-06-17",
         "25",
         "25.210703",
         "34.990717",
         "5",
         "False"
        ],
        [
         "6",
         "2025-06-02",
         "2025-06-17",
         "25",
         "25.210703",
         "34.97275",
         "5",
         "False"
        ],
        [
         "7",
         "2025-06-02",
         "2025-06-17",
         "25",
         "25.210703",
         "34.954783",
         "5",
         "False"
        ],
        [
         "8",
         "2025-06-02",
         "2025-06-17",
         "25",
         "25.188822",
         "35.332084",
         "4",
         "False"
        ],
        [
         "9",
         "2025-06-02",
         "2025-06-17",
         "25",
         "25.188822",
         "35.314117",
         "3",
         "False"
        ],
        [
         "10",
         "2025-06-02",
         "2025-06-17",
         "25",
         "25.188822",
         "35.29615",
         "4",
         "False"
        ],
        [
         "11",
         "2025-06-02",
         "2025-06-17",
         "25",
         "25.188822",
         "35.278184",
         "3",
         "False"
        ],
        [
         "12",
         "2025-06-02",
         "2025-06-17",
         "25",
         "25.188822",
         "35.260217",
         "3",
         "False"
        ],
        [
         "13",
         "2025-06-02",
         "2025-06-17",
         "25",
         "25.188822",
         "35.24225",
         "3",
         "False"
        ],
        [
         "14",
         "2025-06-02",
         "2025-06-17",
         "25",
         "25.210703",
         "35.08055",
         "4",
         "False"
        ],
        [
         "15",
         "2025-06-02",
         "2025-06-17",
         "25",
         "25.188822",
         "35.224284",
         "3",
         "False"
        ],
        [
         "16",
         "2025-06-02",
         "2025-06-17",
         "25",
         "25.188822",
         "35.18835",
         "4",
         "False"
        ],
        [
         "17",
         "2025-06-02",
         "2025-06-17",
         "25",
         "25.188822",
         "35.170384",
         "4",
         "False"
        ],
        [
         "18",
         "2025-06-02",
         "2025-06-17",
         "25",
         "25.188822",
         "35.152417",
         "5",
         "False"
        ],
        [
         "19",
         "2025-06-02",
         "2025-06-17",
         "25",
         "25.188822",
         "35.13445",
         "4",
         "False"
        ],
        [
         "20",
         "2025-06-02",
         "2025-06-17",
         "25",
         "25.188822",
         "35.116483",
         "3",
         "False"
        ],
        [
         "21",
         "2025-06-02",
         "2025-06-17",
         "25",
         "25.188822",
         "35.098517",
         "4",
         "False"
        ],
        [
         "22",
         "2025-06-02",
         "2025-06-17",
         "25",
         "25.188822",
         "35.08055",
         "4",
         "False"
        ],
        [
         "23",
         "2025-06-02",
         "2025-06-17",
         "25",
         "25.188822",
         "35.062583",
         "4",
         "False"
        ],
        [
         "24",
         "2025-06-02",
         "2025-06-17",
         "25",
         "25.188822",
         "35.044617",
         "4",
         "False"
        ],
        [
         "25",
         "2025-06-02",
         "2025-06-17",
         "25",
         "25.188822",
         "35.02665",
         "4",
         "False"
        ],
        [
         "26",
         "2025-06-02",
         "2025-06-17",
         "25",
         "25.188822",
         "35.008683",
         "5",
         "False"
        ],
        [
         "27",
         "2025-06-02",
         "2025-06-17",
         "25",
         "25.188822",
         "34.990717",
         "5",
         "False"
        ],
        [
         "28",
         "2025-06-02",
         "2025-06-17",
         "25",
         "25.188822",
         "34.97275",
         "5",
         "False"
        ],
        [
         "29",
         "2025-06-02",
         "2025-06-17",
         "25",
         "25.188822",
         "35.206317",
         "3",
         "False"
        ],
        [
         "30",
         "2025-06-02",
         "2025-06-17",
         "25",
         "25.188822",
         "34.954783",
         "5",
         "False"
        ],
        [
         "31",
         "2025-06-02",
         "2025-06-17",
         "25",
         "25.210703",
         "35.098517",
         "4",
         "False"
        ],
        [
         "32",
         "2025-06-02",
         "2025-06-17",
         "25",
         "25.210703",
         "35.13445",
         "4",
         "False"
        ],
        [
         "33",
         "2025-06-02",
         "2025-06-17",
         "25",
         "25.232583",
         "35.24225",
         "3",
         "False"
        ],
        [
         "34",
         "2025-06-02",
         "2025-06-17",
         "25",
         "25.232583",
         "35.224284",
         "3",
         "False"
        ],
        [
         "35",
         "2025-06-02",
         "2025-06-17",
         "25",
         "25.232583",
         "35.206317",
         "3",
         "False"
        ],
        [
         "36",
         "2025-06-02",
         "2025-06-17",
         "25",
         "25.232583",
         "35.18835",
         "3",
         "False"
        ],
        [
         "37",
         "2025-06-02",
         "2025-06-17",
         "25",
         "25.232583",
         "35.170384",
         "3",
         "False"
        ],
        [
         "38",
         "2025-06-02",
         "2025-06-17",
         "25",
         "25.232583",
         "35.152417",
         "5",
         "False"
        ],
        [
         "39",
         "2025-06-02",
         "2025-06-17",
         "25",
         "25.232583",
         "35.13445",
         "5",
         "False"
        ],
        [
         "40",
         "2025-06-02",
         "2025-06-17",
         "25",
         "25.232583",
         "35.116483",
         "5",
         "False"
        ],
        [
         "41",
         "2025-06-02",
         "2025-06-17",
         "25",
         "25.232583",
         "35.098517",
         "5",
         "False"
        ],
        [
         "42",
         "2025-06-02",
         "2025-06-17",
         "25",
         "25.232583",
         "35.08055",
         "4",
         "False"
        ],
        [
         "43",
         "2025-06-02",
         "2025-06-17",
         "25",
         "25.232583",
         "35.062583",
         "4",
         "False"
        ],
        [
         "44",
         "2025-06-02",
         "2025-06-17",
         "25",
         "25.232583",
         "35.044617",
         "4",
         "False"
        ],
        [
         "45",
         "2025-06-02",
         "2025-06-17",
         "25",
         "25.232583",
         "35.02665",
         "5",
         "False"
        ],
        [
         "46",
         "2025-06-02",
         "2025-06-17",
         "25",
         "25.210703",
         "35.116483",
         "4",
         "False"
        ],
        [
         "47",
         "2025-06-02",
         "2025-06-17",
         "25",
         "25.232583",
         "35.008683",
         "5",
         "False"
        ],
        [
         "48",
         "2025-06-02",
         "2025-06-17",
         "25",
         "25.232583",
         "34.97275",
         "5",
         "False"
        ],
        [
         "49",
         "2025-06-02",
         "2025-06-17",
         "25",
         "25.210703",
         "35.457851",
         "7",
         "False"
        ]
       ],
       "shape": {
        "columns": 7,
        "rows": 2071
       }
      },
      "text/html": [
       "<div>\n",
       "<style scoped>\n",
       "    .dataframe tbody tr th:only-of-type {\n",
       "        vertical-align: middle;\n",
       "    }\n",
       "\n",
       "    .dataframe tbody tr th {\n",
       "        vertical-align: top;\n",
       "    }\n",
       "\n",
       "    .dataframe thead th {\n",
       "        text-align: right;\n",
       "    }\n",
       "</style>\n",
       "<table border=\"1\" class=\"dataframe\">\n",
       "  <thead>\n",
       "    <tr style=\"text-align: right;\">\n",
       "      <th></th>\n",
       "      <th>dt_placement</th>\n",
       "      <th>dt_prediction</th>\n",
       "      <th>week</th>\n",
       "      <th>x</th>\n",
       "      <th>y</th>\n",
       "      <th>prediction</th>\n",
       "      <th>entomological_features</th>\n",
       "    </tr>\n",
       "  </thead>\n",
       "  <tbody>\n",
       "    <tr>\n",
       "      <th>0</th>\n",
       "      <td>2025-06-02</td>\n",
       "      <td>2025-06-17</td>\n",
       "      <td>25</td>\n",
       "      <td>23.525905</td>\n",
       "      <td>35.296150</td>\n",
       "      <td>3</td>\n",
       "      <td>False</td>\n",
       "    </tr>\n",
       "    <tr>\n",
       "      <th>1</th>\n",
       "      <td>2025-06-02</td>\n",
       "      <td>2025-06-17</td>\n",
       "      <td>25</td>\n",
       "      <td>25.210703</td>\n",
       "      <td>35.062583</td>\n",
       "      <td>4</td>\n",
       "      <td>False</td>\n",
       "    </tr>\n",
       "    <tr>\n",
       "      <th>2</th>\n",
       "      <td>2025-06-02</td>\n",
       "      <td>2025-06-17</td>\n",
       "      <td>25</td>\n",
       "      <td>25.210703</td>\n",
       "      <td>35.044617</td>\n",
       "      <td>4</td>\n",
       "      <td>False</td>\n",
       "    </tr>\n",
       "    <tr>\n",
       "      <th>3</th>\n",
       "      <td>2025-06-02</td>\n",
       "      <td>2025-06-17</td>\n",
       "      <td>25</td>\n",
       "      <td>25.210703</td>\n",
       "      <td>35.026650</td>\n",
       "      <td>5</td>\n",
       "      <td>False</td>\n",
       "    </tr>\n",
       "    <tr>\n",
       "      <th>4</th>\n",
       "      <td>2025-06-02</td>\n",
       "      <td>2025-06-17</td>\n",
       "      <td>25</td>\n",
       "      <td>25.210703</td>\n",
       "      <td>35.008683</td>\n",
       "      <td>5</td>\n",
       "      <td>False</td>\n",
       "    </tr>\n",
       "    <tr>\n",
       "      <th>...</th>\n",
       "      <td>...</td>\n",
       "      <td>...</td>\n",
       "      <td>...</td>\n",
       "      <td>...</td>\n",
       "      <td>...</td>\n",
       "      <td>...</td>\n",
       "      <td>...</td>\n",
       "    </tr>\n",
       "    <tr>\n",
       "      <th>2066</th>\n",
       "      <td>2025-06-02</td>\n",
       "      <td>2025-06-17</td>\n",
       "      <td>25</td>\n",
       "      <td>24.510527</td>\n",
       "      <td>35.170384</td>\n",
       "      <td>4</td>\n",
       "      <td>False</td>\n",
       "    </tr>\n",
       "    <tr>\n",
       "      <th>2067</th>\n",
       "      <td>2025-06-02</td>\n",
       "      <td>2025-06-17</td>\n",
       "      <td>25</td>\n",
       "      <td>24.510527</td>\n",
       "      <td>35.152417</td>\n",
       "      <td>4</td>\n",
       "      <td>False</td>\n",
       "    </tr>\n",
       "    <tr>\n",
       "      <th>2068</th>\n",
       "      <td>2025-06-02</td>\n",
       "      <td>2025-06-17</td>\n",
       "      <td>25</td>\n",
       "      <td>24.488647</td>\n",
       "      <td>35.350050</td>\n",
       "      <td>8</td>\n",
       "      <td>False</td>\n",
       "    </tr>\n",
       "    <tr>\n",
       "      <th>2069</th>\n",
       "      <td>2025-06-02</td>\n",
       "      <td>2025-06-17</td>\n",
       "      <td>25</td>\n",
       "      <td>24.554288</td>\n",
       "      <td>35.170384</td>\n",
       "      <td>6</td>\n",
       "      <td>False</td>\n",
       "    </tr>\n",
       "    <tr>\n",
       "      <th>2070</th>\n",
       "      <td>2025-06-02</td>\n",
       "      <td>2025-06-17</td>\n",
       "      <td>25</td>\n",
       "      <td>26.304727</td>\n",
       "      <td>35.314117</td>\n",
       "      <td>5</td>\n",
       "      <td>False</td>\n",
       "    </tr>\n",
       "  </tbody>\n",
       "</table>\n",
       "<p>2071 rows × 7 columns</p>\n",
       "</div>"
      ],
      "text/plain": [
       "     dt_placement dt_prediction  week          x          y  prediction  \\\n",
       "0      2025-06-02    2025-06-17    25  23.525905  35.296150           3   \n",
       "1      2025-06-02    2025-06-17    25  25.210703  35.062583           4   \n",
       "2      2025-06-02    2025-06-17    25  25.210703  35.044617           4   \n",
       "3      2025-06-02    2025-06-17    25  25.210703  35.026650           5   \n",
       "4      2025-06-02    2025-06-17    25  25.210703  35.008683           5   \n",
       "...           ...           ...   ...        ...        ...         ...   \n",
       "2066   2025-06-02    2025-06-17    25  24.510527  35.170384           4   \n",
       "2067   2025-06-02    2025-06-17    25  24.510527  35.152417           4   \n",
       "2068   2025-06-02    2025-06-17    25  24.488647  35.350050           8   \n",
       "2069   2025-06-02    2025-06-17    25  24.554288  35.170384           6   \n",
       "2070   2025-06-02    2025-06-17    25  26.304727  35.314117           5   \n",
       "\n",
       "      entomological_features  \n",
       "0                      False  \n",
       "1                      False  \n",
       "2                      False  \n",
       "3                      False  \n",
       "4                      False  \n",
       "...                      ...  \n",
       "2066                   False  \n",
       "2067                   False  \n",
       "2068                   False  \n",
       "2069                   False  \n",
       "2070                   False  \n",
       "\n",
       "[2071 rows x 7 columns]"
      ]
     },
     "execution_count": 4,
     "metadata": {},
     "output_type": "execute_result"
    }
   ],
   "source": [
    "df"
   ]
  },
  {
   "cell_type": "code",
   "execution_count": 5,
   "id": "3263abc6",
   "metadata": {},
   "outputs": [
    {
     "data": {
      "text/plain": [
       "2"
      ]
     },
     "execution_count": 5,
     "metadata": {},
     "output_type": "execute_result"
    }
   ],
   "source": [
    "df.prediction.min()"
   ]
  },
  {
   "cell_type": "code",
   "execution_count": 6,
   "id": "9c040bcd",
   "metadata": {},
   "outputs": [
    {
     "data": {
      "text/plain": [
       "9"
      ]
     },
     "execution_count": 6,
     "metadata": {},
     "output_type": "execute_result"
    }
   ],
   "source": [
    "df.prediction.max()"
   ]
  },
  {
   "cell_type": "code",
   "execution_count": 7,
   "id": "0f692b67",
   "metadata": {},
   "outputs": [
    {
     "data": {
      "text/plain": [
       "0"
      ]
     },
     "execution_count": 7,
     "metadata": {},
     "output_type": "execute_result"
    }
   ],
   "source": [
    "count_low = df['prediction'].between(0, 1).sum()\n",
    "count_low"
   ]
  },
  {
   "cell_type": "code",
   "execution_count": 8,
   "id": "93dfd109",
   "metadata": {},
   "outputs": [
    {
     "data": {
      "text/plain": [
       "1430"
      ]
     },
     "execution_count": 8,
     "metadata": {},
     "output_type": "execute_result"
    }
   ],
   "source": [
    "count_mid = df['prediction'].between(2, 5).sum()\n",
    "count_mid"
   ]
  },
  {
   "cell_type": "code",
   "execution_count": 9,
   "id": "fa54c1b3",
   "metadata": {},
   "outputs": [
    {
     "data": {
      "text/plain": [
       "641"
      ]
     },
     "execution_count": 9,
     "metadata": {},
     "output_type": "execute_result"
    }
   ],
   "source": [
    "count_high = df['prediction'].between(6, 9).sum()\n",
    "count_high"
   ]
  },
  {
   "cell_type": "code",
   "execution_count": null,
   "id": "7bc36871",
   "metadata": {},
   "outputs": [],
   "source": []
  }
 ],
 "metadata": {
  "kernelspec": {
   "display_name": "noa_eywa",
   "language": "python",
   "name": "python3"
  },
  "language_info": {
   "codemirror_mode": {
    "name": "ipython",
    "version": 3
   },
   "file_extension": ".py",
   "mimetype": "text/x-python",
   "name": "python",
   "nbconvert_exporter": "python",
   "pygments_lexer": "ipython3",
   "version": "3.11.7"
  }
 },
 "nbformat": 4,
 "nbformat_minor": 5
}
