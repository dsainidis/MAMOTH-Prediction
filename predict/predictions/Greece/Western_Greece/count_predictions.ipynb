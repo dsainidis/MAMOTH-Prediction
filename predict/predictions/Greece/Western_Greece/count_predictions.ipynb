{
 "cells": [
  {
   "cell_type": "code",
   "execution_count": 1,
   "id": "2873aa81",
   "metadata": {},
   "outputs": [],
   "source": [
    "import pandas as pd"
   ]
  },
  {
   "cell_type": "code",
   "execution_count": 2,
   "id": "e91e53be",
   "metadata": {},
   "outputs": [],
   "source": [
    "df = pd.read_csv('Culex_Greece_WG_2025_06.csv')"
   ]
  },
  {
   "cell_type": "code",
   "execution_count": 3,
   "id": "2be3fd5c",
   "metadata": {},
   "outputs": [],
   "source": [
    "df['prediction'] = df['prediction'].astype(int)"
   ]
  },
  {
   "cell_type": "code",
   "execution_count": 4,
   "id": "8d27eddf",
   "metadata": {},
   "outputs": [
    {
     "data": {
      "application/vnd.microsoft.datawrangler.viewer.v0+json": {
       "columns": [
        {
         "name": "index",
         "rawType": "int64",
         "type": "integer"
        },
        {
         "name": "dt_placement",
         "rawType": "object",
         "type": "string"
        },
        {
         "name": "dt_prediction",
         "rawType": "object",
         "type": "string"
        },
        {
         "name": "week",
         "rawType": "int64",
         "type": "integer"
        },
        {
         "name": "x",
         "rawType": "float64",
         "type": "float"
        },
        {
         "name": "y",
         "rawType": "float64",
         "type": "float"
        },
        {
         "name": "prediction",
         "rawType": "int32",
         "type": "integer"
        },
        {
         "name": "entomological_features",
         "rawType": "bool",
         "type": "boolean"
        }
       ],
       "ref": "1dcadc64-6e55-4698-99ca-9a35ce747c0e",
       "rows": [
        [
         "0",
         "2025-06-02",
         "2025-06-17",
         "25",
         "20.729607",
         "38.822908",
         "9",
         "False"
        ],
        [
         "1",
         "2025-06-02",
         "2025-06-17",
         "25",
         "21.701802",
         "38.607308",
         "5",
         "False"
        ],
        [
         "2",
         "2025-06-02",
         "2025-06-17",
         "25",
         "21.701802",
         "38.625274",
         "5",
         "False"
        ],
        [
         "3",
         "2025-06-02",
         "2025-06-17",
         "25",
         "21.701802",
         "38.643241",
         "5",
         "False"
        ],
        [
         "4",
         "2025-06-02",
         "2025-06-17",
         "25",
         "21.701802",
         "38.661208",
         "5",
         "False"
        ],
        [
         "5",
         "2025-06-02",
         "2025-06-17",
         "25",
         "21.701802",
         "38.679174",
         "6",
         "False"
        ],
        [
         "6",
         "2025-06-02",
         "2025-06-17",
         "25",
         "21.701802",
         "38.697141",
         "6",
         "False"
        ],
        [
         "7",
         "2025-06-02",
         "2025-06-17",
         "25",
         "21.724412",
         "37.385573",
         "6",
         "False"
        ],
        [
         "8",
         "2025-06-02",
         "2025-06-17",
         "25",
         "21.701802",
         "38.589341",
         "7",
         "False"
        ],
        [
         "9",
         "2025-06-02",
         "2025-06-17",
         "25",
         "21.724412",
         "37.403539",
         "4",
         "False"
        ],
        [
         "10",
         "2025-06-02",
         "2025-06-17",
         "25",
         "21.724412",
         "37.439473",
         "4",
         "False"
        ],
        [
         "11",
         "2025-06-02",
         "2025-06-17",
         "25",
         "21.724412",
         "37.457439",
         "7",
         "False"
        ],
        [
         "12",
         "2025-06-02",
         "2025-06-17",
         "25",
         "21.724412",
         "37.493373",
         "7",
         "False"
        ],
        [
         "13",
         "2025-06-02",
         "2025-06-17",
         "25",
         "21.724412",
         "37.51134",
         "6",
         "False"
        ],
        [
         "14",
         "2025-06-02",
         "2025-06-17",
         "25",
         "21.724412",
         "37.529306",
         "6",
         "False"
        ],
        [
         "15",
         "2025-06-02",
         "2025-06-17",
         "25",
         "21.724412",
         "37.547273",
         "4",
         "False"
        ],
        [
         "16",
         "2025-06-02",
         "2025-06-17",
         "25",
         "21.724412",
         "37.56524",
         "4",
         "False"
        ],
        [
         "17",
         "2025-06-02",
         "2025-06-17",
         "25",
         "21.724412",
         "37.421506",
         "7",
         "False"
        ],
        [
         "18",
         "2025-06-02",
         "2025-06-17",
         "25",
         "21.724412",
         "37.583206",
         "4",
         "False"
        ],
        [
         "19",
         "2025-06-02",
         "2025-06-17",
         "25",
         "21.701802",
         "38.571374",
         "6",
         "False"
        ],
        [
         "20",
         "2025-06-02",
         "2025-06-17",
         "25",
         "21.701802",
         "38.535441",
         "6",
         "False"
        ],
        [
         "21",
         "2025-06-02",
         "2025-06-17",
         "25",
         "21.701802",
         "38.068307",
         "5",
         "False"
        ],
        [
         "22",
         "2025-06-02",
         "2025-06-17",
         "25",
         "21.701802",
         "38.086274",
         "5",
         "False"
        ],
        [
         "23",
         "2025-06-02",
         "2025-06-17",
         "25",
         "21.701802",
         "38.10424",
         "5",
         "False"
        ],
        [
         "24",
         "2025-06-02",
         "2025-06-17",
         "25",
         "21.701802",
         "38.122207",
         "5",
         "False"
        ],
        [
         "25",
         "2025-06-02",
         "2025-06-17",
         "25",
         "21.701802",
         "38.140174",
         "6",
         "False"
        ],
        [
         "26",
         "2025-06-02",
         "2025-06-17",
         "25",
         "21.701802",
         "38.15814",
         "6",
         "False"
        ],
        [
         "27",
         "2025-06-02",
         "2025-06-17",
         "25",
         "21.701802",
         "38.194074",
         "7",
         "False"
        ],
        [
         "28",
         "2025-06-02",
         "2025-06-17",
         "25",
         "21.701802",
         "38.553408",
         "6",
         "False"
        ],
        [
         "29",
         "2025-06-02",
         "2025-06-17",
         "25",
         "21.701802",
         "38.355774",
         "6",
         "False"
        ],
        [
         "30",
         "2025-06-02",
         "2025-06-17",
         "25",
         "21.701802",
         "38.391707",
         "6",
         "False"
        ],
        [
         "31",
         "2025-06-02",
         "2025-06-17",
         "25",
         "21.701802",
         "38.427641",
         "5",
         "False"
        ],
        [
         "32",
         "2025-06-02",
         "2025-06-17",
         "25",
         "21.701802",
         "38.445608",
         "5",
         "False"
        ],
        [
         "33",
         "2025-06-02",
         "2025-06-17",
         "25",
         "21.701802",
         "38.463574",
         "6",
         "False"
        ],
        [
         "34",
         "2025-06-02",
         "2025-06-17",
         "25",
         "21.701802",
         "38.481541",
         "6",
         "False"
        ],
        [
         "35",
         "2025-06-02",
         "2025-06-17",
         "25",
         "21.701802",
         "38.499508",
         "6",
         "False"
        ],
        [
         "36",
         "2025-06-02",
         "2025-06-17",
         "25",
         "21.701802",
         "38.517474",
         "6",
         "False"
        ],
        [
         "37",
         "2025-06-02",
         "2025-06-17",
         "25",
         "21.701802",
         "38.373741",
         "6",
         "False"
        ],
        [
         "38",
         "2025-06-02",
         "2025-06-17",
         "25",
         "21.724412",
         "37.601173",
         "2",
         "False"
        ],
        [
         "39",
         "2025-06-02",
         "2025-06-17",
         "25",
         "21.724412",
         "37.655073",
         "6",
         "False"
        ],
        [
         "40",
         "2025-06-02",
         "2025-06-17",
         "25",
         "21.724412",
         "37.67304",
         "6",
         "False"
        ],
        [
         "41",
         "2025-06-02",
         "2025-06-17",
         "25",
         "21.724412",
         "38.15814",
         "6",
         "False"
        ],
        [
         "42",
         "2025-06-02",
         "2025-06-17",
         "25",
         "21.724412",
         "38.176107",
         "6",
         "False"
        ],
        [
         "43",
         "2025-06-02",
         "2025-06-17",
         "25",
         "21.724412",
         "38.194074",
         "5",
         "False"
        ],
        [
         "44",
         "2025-06-02",
         "2025-06-17",
         "25",
         "21.724412",
         "38.355774",
         "6",
         "False"
        ],
        [
         "45",
         "2025-06-02",
         "2025-06-17",
         "25",
         "21.724412",
         "38.373741",
         "6",
         "False"
        ],
        [
         "46",
         "2025-06-02",
         "2025-06-17",
         "25",
         "21.724412",
         "38.409674",
         "6",
         "False"
        ],
        [
         "47",
         "2025-06-02",
         "2025-06-17",
         "25",
         "21.724412",
         "38.427641",
         "6",
         "False"
        ],
        [
         "48",
         "2025-06-02",
         "2025-06-17",
         "25",
         "21.724412",
         "38.140174",
         "6",
         "False"
        ],
        [
         "49",
         "2025-06-02",
         "2025-06-17",
         "25",
         "21.724412",
         "38.445608",
         "6",
         "False"
        ]
       ],
       "shape": {
        "columns": 7,
        "rows": 2619
       }
      },
      "text/html": [
       "<div>\n",
       "<style scoped>\n",
       "    .dataframe tbody tr th:only-of-type {\n",
       "        vertical-align: middle;\n",
       "    }\n",
       "\n",
       "    .dataframe tbody tr th {\n",
       "        vertical-align: top;\n",
       "    }\n",
       "\n",
       "    .dataframe thead th {\n",
       "        text-align: right;\n",
       "    }\n",
       "</style>\n",
       "<table border=\"1\" class=\"dataframe\">\n",
       "  <thead>\n",
       "    <tr style=\"text-align: right;\">\n",
       "      <th></th>\n",
       "      <th>dt_placement</th>\n",
       "      <th>dt_prediction</th>\n",
       "      <th>week</th>\n",
       "      <th>x</th>\n",
       "      <th>y</th>\n",
       "      <th>prediction</th>\n",
       "      <th>entomological_features</th>\n",
       "    </tr>\n",
       "  </thead>\n",
       "  <tbody>\n",
       "    <tr>\n",
       "      <th>0</th>\n",
       "      <td>2025-06-02</td>\n",
       "      <td>2025-06-17</td>\n",
       "      <td>25</td>\n",
       "      <td>20.729607</td>\n",
       "      <td>38.822908</td>\n",
       "      <td>9</td>\n",
       "      <td>False</td>\n",
       "    </tr>\n",
       "    <tr>\n",
       "      <th>1</th>\n",
       "      <td>2025-06-02</td>\n",
       "      <td>2025-06-17</td>\n",
       "      <td>25</td>\n",
       "      <td>21.701802</td>\n",
       "      <td>38.607308</td>\n",
       "      <td>5</td>\n",
       "      <td>False</td>\n",
       "    </tr>\n",
       "    <tr>\n",
       "      <th>2</th>\n",
       "      <td>2025-06-02</td>\n",
       "      <td>2025-06-17</td>\n",
       "      <td>25</td>\n",
       "      <td>21.701802</td>\n",
       "      <td>38.625274</td>\n",
       "      <td>5</td>\n",
       "      <td>False</td>\n",
       "    </tr>\n",
       "    <tr>\n",
       "      <th>3</th>\n",
       "      <td>2025-06-02</td>\n",
       "      <td>2025-06-17</td>\n",
       "      <td>25</td>\n",
       "      <td>21.701802</td>\n",
       "      <td>38.643241</td>\n",
       "      <td>5</td>\n",
       "      <td>False</td>\n",
       "    </tr>\n",
       "    <tr>\n",
       "      <th>4</th>\n",
       "      <td>2025-06-02</td>\n",
       "      <td>2025-06-17</td>\n",
       "      <td>25</td>\n",
       "      <td>21.701802</td>\n",
       "      <td>38.661208</td>\n",
       "      <td>5</td>\n",
       "      <td>False</td>\n",
       "    </tr>\n",
       "    <tr>\n",
       "      <th>...</th>\n",
       "      <td>...</td>\n",
       "      <td>...</td>\n",
       "      <td>...</td>\n",
       "      <td>...</td>\n",
       "      <td>...</td>\n",
       "      <td>...</td>\n",
       "      <td>...</td>\n",
       "    </tr>\n",
       "    <tr>\n",
       "      <th>2614</th>\n",
       "      <td>2025-06-02</td>\n",
       "      <td>2025-06-17</td>\n",
       "      <td>25</td>\n",
       "      <td>21.385274</td>\n",
       "      <td>38.050340</td>\n",
       "      <td>6</td>\n",
       "      <td>False</td>\n",
       "    </tr>\n",
       "    <tr>\n",
       "      <th>2615</th>\n",
       "      <td>2025-06-02</td>\n",
       "      <td>2025-06-17</td>\n",
       "      <td>25</td>\n",
       "      <td>21.385274</td>\n",
       "      <td>38.086274</td>\n",
       "      <td>6</td>\n",
       "      <td>False</td>\n",
       "    </tr>\n",
       "    <tr>\n",
       "      <th>2616</th>\n",
       "      <td>2025-06-02</td>\n",
       "      <td>2025-06-17</td>\n",
       "      <td>25</td>\n",
       "      <td>21.385274</td>\n",
       "      <td>38.104240</td>\n",
       "      <td>8</td>\n",
       "      <td>False</td>\n",
       "    </tr>\n",
       "    <tr>\n",
       "      <th>2617</th>\n",
       "      <td>2025-06-02</td>\n",
       "      <td>2025-06-17</td>\n",
       "      <td>25</td>\n",
       "      <td>21.385274</td>\n",
       "      <td>37.726940</td>\n",
       "      <td>3</td>\n",
       "      <td>False</td>\n",
       "    </tr>\n",
       "    <tr>\n",
       "      <th>2618</th>\n",
       "      <td>2025-06-02</td>\n",
       "      <td>2025-06-17</td>\n",
       "      <td>25</td>\n",
       "      <td>22.380079</td>\n",
       "      <td>38.140174</td>\n",
       "      <td>7</td>\n",
       "      <td>False</td>\n",
       "    </tr>\n",
       "  </tbody>\n",
       "</table>\n",
       "<p>2619 rows × 7 columns</p>\n",
       "</div>"
      ],
      "text/plain": [
       "     dt_placement dt_prediction  week          x          y  prediction  \\\n",
       "0      2025-06-02    2025-06-17    25  20.729607  38.822908           9   \n",
       "1      2025-06-02    2025-06-17    25  21.701802  38.607308           5   \n",
       "2      2025-06-02    2025-06-17    25  21.701802  38.625274           5   \n",
       "3      2025-06-02    2025-06-17    25  21.701802  38.643241           5   \n",
       "4      2025-06-02    2025-06-17    25  21.701802  38.661208           5   \n",
       "...           ...           ...   ...        ...        ...         ...   \n",
       "2614   2025-06-02    2025-06-17    25  21.385274  38.050340           6   \n",
       "2615   2025-06-02    2025-06-17    25  21.385274  38.086274           6   \n",
       "2616   2025-06-02    2025-06-17    25  21.385274  38.104240           8   \n",
       "2617   2025-06-02    2025-06-17    25  21.385274  37.726940           3   \n",
       "2618   2025-06-02    2025-06-17    25  22.380079  38.140174           7   \n",
       "\n",
       "      entomological_features  \n",
       "0                      False  \n",
       "1                      False  \n",
       "2                      False  \n",
       "3                      False  \n",
       "4                      False  \n",
       "...                      ...  \n",
       "2614                   False  \n",
       "2615                   False  \n",
       "2616                   False  \n",
       "2617                   False  \n",
       "2618                   False  \n",
       "\n",
       "[2619 rows x 7 columns]"
      ]
     },
     "execution_count": 4,
     "metadata": {},
     "output_type": "execute_result"
    }
   ],
   "source": [
    "df"
   ]
  },
  {
   "cell_type": "code",
   "execution_count": 5,
   "id": "3263abc6",
   "metadata": {},
   "outputs": [
    {
     "data": {
      "text/plain": [
       "2"
      ]
     },
     "execution_count": 5,
     "metadata": {},
     "output_type": "execute_result"
    }
   ],
   "source": [
    "df.prediction.min()"
   ]
  },
  {
   "cell_type": "code",
   "execution_count": 6,
   "id": "9c040bcd",
   "metadata": {},
   "outputs": [
    {
     "data": {
      "text/plain": [
       "9"
      ]
     },
     "execution_count": 6,
     "metadata": {},
     "output_type": "execute_result"
    }
   ],
   "source": [
    "df.prediction.max()"
   ]
  },
  {
   "cell_type": "code",
   "execution_count": 7,
   "id": "0f692b67",
   "metadata": {},
   "outputs": [
    {
     "data": {
      "text/plain": [
       "0"
      ]
     },
     "execution_count": 7,
     "metadata": {},
     "output_type": "execute_result"
    }
   ],
   "source": [
    "count_low = df['prediction'].between(0, 1).sum()\n",
    "count_low"
   ]
  },
  {
   "cell_type": "code",
   "execution_count": 8,
   "id": "93dfd109",
   "metadata": {},
   "outputs": [
    {
     "data": {
      "text/plain": [
       "1013"
      ]
     },
     "execution_count": 8,
     "metadata": {},
     "output_type": "execute_result"
    }
   ],
   "source": [
    "count_mid = df['prediction'].between(2, 5).sum()\n",
    "count_mid"
   ]
  },
  {
   "cell_type": "code",
   "execution_count": 9,
   "id": "fa54c1b3",
   "metadata": {},
   "outputs": [
    {
     "data": {
      "text/plain": [
       "1606"
      ]
     },
     "execution_count": 9,
     "metadata": {},
     "output_type": "execute_result"
    }
   ],
   "source": [
    "count_high = df['prediction'].between(6, 9).sum()\n",
    "count_high"
   ]
  },
  {
   "cell_type": "code",
   "execution_count": null,
   "id": "7bc36871",
   "metadata": {},
   "outputs": [],
   "source": []
  }
 ],
 "metadata": {
  "kernelspec": {
   "display_name": "noa_eywa",
   "language": "python",
   "name": "python3"
  },
  "language_info": {
   "codemirror_mode": {
    "name": "ipython",
    "version": 3
   },
   "file_extension": ".py",
   "mimetype": "text/x-python",
   "name": "python",
   "nbconvert_exporter": "python",
   "pygments_lexer": "ipython3",
   "version": "3.11.7"
  }
 },
 "nbformat": 4,
 "nbformat_minor": 5
}
