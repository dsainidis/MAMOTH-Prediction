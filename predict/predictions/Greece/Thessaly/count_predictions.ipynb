{
 "cells": [
  {
   "cell_type": "code",
   "execution_count": 1,
   "id": "2873aa81",
   "metadata": {},
   "outputs": [],
   "source": [
    "import pandas as pd"
   ]
  },
  {
   "cell_type": "code",
   "execution_count": 2,
   "id": "e91e53be",
   "metadata": {},
   "outputs": [],
   "source": [
    "df = pd.read_csv('Culex_Greece_Thessaly_2025_06.csv')"
   ]
  },
  {
   "cell_type": "code",
   "execution_count": 3,
   "id": "2be3fd5c",
   "metadata": {},
   "outputs": [],
   "source": [
    "df['prediction'] = df['prediction'].astype(int)"
   ]
  },
  {
   "cell_type": "code",
   "execution_count": 4,
   "id": "8d27eddf",
   "metadata": {},
   "outputs": [
    {
     "data": {
      "application/vnd.microsoft.datawrangler.viewer.v0+json": {
       "columns": [
        {
         "name": "index",
         "rawType": "int64",
         "type": "integer"
        },
        {
         "name": "dt_placement",
         "rawType": "object",
         "type": "string"
        },
        {
         "name": "dt_prediction",
         "rawType": "object",
         "type": "string"
        },
        {
         "name": "week",
         "rawType": "int64",
         "type": "integer"
        },
        {
         "name": "x",
         "rawType": "float64",
         "type": "float"
        },
        {
         "name": "y",
         "rawType": "float64",
         "type": "float"
        },
        {
         "name": "prediction",
         "rawType": "int32",
         "type": "integer"
        },
        {
         "name": "entomological_features",
         "rawType": "bool",
         "type": "boolean"
        }
       ],
       "ref": "37e5b31c-6194-49cb-a6ce-9f48a85c88c1",
       "rows": [
        [
         "0",
         "2025-06-02",
         "2025-06-17",
         "25",
         "21.755918",
         "39.571596",
         "6",
         "False"
        ],
        [
         "1",
         "2025-06-02",
         "2025-06-17",
         "25",
         "21.178195",
         "39.60753",
         "3",
         "False"
        ],
        [
         "2",
         "2025-06-02",
         "2025-06-17",
         "25",
         "21.247521",
         "39.625496",
         "5",
         "False"
        ],
        [
         "3",
         "2025-06-02",
         "2025-06-17",
         "25",
         "21.224412",
         "39.427863",
         "5",
         "False"
        ],
        [
         "4",
         "2025-06-02",
         "2025-06-17",
         "25",
         "21.201304",
         "39.66143",
         "4",
         "False"
        ],
        [
         "5",
         "2025-06-02",
         "2025-06-17",
         "25",
         "21.155086",
         "39.60753",
         "3",
         "False"
        ],
        [
         "6",
         "2025-06-02",
         "2025-06-17",
         "25",
         "21.155086",
         "39.625496",
         "5",
         "False"
        ],
        [
         "7",
         "2025-06-02",
         "2025-06-17",
         "25",
         "21.155086",
         "39.66143",
         "5",
         "False"
        ],
        [
         "8",
         "2025-06-02",
         "2025-06-17",
         "25",
         "21.155086",
         "39.679397",
         "4",
         "False"
        ],
        [
         "9",
         "2025-06-02",
         "2025-06-17",
         "25",
         "21.155086",
         "39.697363",
         "5",
         "False"
        ],
        [
         "10",
         "2025-06-02",
         "2025-06-17",
         "25",
         "21.155086",
         "39.71533",
         "4",
         "False"
        ],
        [
         "11",
         "2025-06-02",
         "2025-06-17",
         "25",
         "21.178195",
         "39.49973",
         "4",
         "False"
        ],
        [
         "12",
         "2025-06-02",
         "2025-06-17",
         "25",
         "21.178195",
         "39.517696",
         "4",
         "False"
        ],
        [
         "13",
         "2025-06-02",
         "2025-06-17",
         "25",
         "21.178195",
         "39.625496",
         "6",
         "False"
        ],
        [
         "14",
         "2025-06-02",
         "2025-06-17",
         "25",
         "21.386175",
         "39.373963",
         "3",
         "False"
        ],
        [
         "15",
         "2025-06-02",
         "2025-06-17",
         "25",
         "21.178195",
         "39.643463",
         "5",
         "False"
        ],
        [
         "16",
         "2025-06-02",
         "2025-06-17",
         "25",
         "21.178195",
         "39.66143",
         "4",
         "False"
        ],
        [
         "17",
         "2025-06-02",
         "2025-06-17",
         "25",
         "21.178195",
         "39.679397",
         "5",
         "False"
        ],
        [
         "18",
         "2025-06-02",
         "2025-06-17",
         "25",
         "21.178195",
         "39.697363",
         "6",
         "False"
        ],
        [
         "19",
         "2025-06-02",
         "2025-06-17",
         "25",
         "21.201304",
         "39.481763",
         "4",
         "False"
        ],
        [
         "20",
         "2025-06-02",
         "2025-06-17",
         "25",
         "21.201304",
         "39.49973",
         "4",
         "False"
        ],
        [
         "21",
         "2025-06-02",
         "2025-06-17",
         "25",
         "21.201304",
         "39.517696",
         "4",
         "False"
        ],
        [
         "22",
         "2025-06-02",
         "2025-06-17",
         "25",
         "21.201304",
         "39.55363",
         "4",
         "False"
        ],
        [
         "23",
         "2025-06-02",
         "2025-06-17",
         "25",
         "21.201304",
         "39.571596",
         "4",
         "False"
        ],
        [
         "24",
         "2025-06-02",
         "2025-06-17",
         "25",
         "21.201304",
         "39.589563",
         "4",
         "False"
        ],
        [
         "25",
         "2025-06-02",
         "2025-06-17",
         "25",
         "21.201304",
         "39.60753",
         "5",
         "False"
        ],
        [
         "26",
         "2025-06-02",
         "2025-06-17",
         "25",
         "21.224412",
         "39.44583",
         "4",
         "False"
        ],
        [
         "27",
         "2025-06-02",
         "2025-06-17",
         "25",
         "21.247521",
         "39.60753",
         "7",
         "False"
        ],
        [
         "28",
         "2025-06-02",
         "2025-06-17",
         "25",
         "21.247521",
         "39.571596",
         "5",
         "False"
        ],
        [
         "29",
         "2025-06-02",
         "2025-06-17",
         "25",
         "21.247521",
         "39.535663",
         "4",
         "False"
        ],
        [
         "30",
         "2025-06-02",
         "2025-06-17",
         "25",
         "21.409284",
         "39.302096",
         "5",
         "False"
        ],
        [
         "31",
         "2025-06-02",
         "2025-06-17",
         "25",
         "21.293739",
         "39.841097",
         "4",
         "False"
        ],
        [
         "32",
         "2025-06-02",
         "2025-06-17",
         "25",
         "21.293739",
         "39.805163",
         "5",
         "False"
        ],
        [
         "33",
         "2025-06-02",
         "2025-06-17",
         "25",
         "21.224412",
         "39.481763",
         "4",
         "False"
        ],
        [
         "34",
         "2025-06-02",
         "2025-06-17",
         "25",
         "21.224412",
         "39.49973",
         "5",
         "False"
        ],
        [
         "35",
         "2025-06-02",
         "2025-06-17",
         "25",
         "21.224412",
         "39.517696",
         "4",
         "False"
        ],
        [
         "36",
         "2025-06-02",
         "2025-06-17",
         "25",
         "21.224412",
         "39.55363",
         "4",
         "False"
        ],
        [
         "37",
         "2025-06-02",
         "2025-06-17",
         "25",
         "21.224412",
         "39.571596",
         "3",
         "False"
        ],
        [
         "38",
         "2025-06-02",
         "2025-06-17",
         "25",
         "21.224412",
         "39.589563",
         "3",
         "False"
        ],
        [
         "39",
         "2025-06-02",
         "2025-06-17",
         "25",
         "21.224412",
         "39.60753",
         "5",
         "False"
        ],
        [
         "40",
         "2025-06-02",
         "2025-06-17",
         "25",
         "21.224412",
         "39.625496",
         "4",
         "False"
        ],
        [
         "41",
         "2025-06-02",
         "2025-06-17",
         "25",
         "21.224412",
         "39.643463",
         "5",
         "False"
        ],
        [
         "42",
         "2025-06-02",
         "2025-06-17",
         "25",
         "21.224412",
         "39.66143",
         "4",
         "False"
        ],
        [
         "43",
         "2025-06-02",
         "2025-06-17",
         "25",
         "21.224412",
         "39.697363",
         "5",
         "False"
        ],
        [
         "44",
         "2025-06-02",
         "2025-06-17",
         "25",
         "21.224412",
         "39.71533",
         "4",
         "False"
        ],
        [
         "45",
         "2025-06-02",
         "2025-06-17",
         "25",
         "21.224412",
         "39.733297",
         "5",
         "False"
        ],
        [
         "46",
         "2025-06-02",
         "2025-06-17",
         "25",
         "21.224412",
         "39.751263",
         "5",
         "False"
        ],
        [
         "47",
         "2025-06-02",
         "2025-06-17",
         "25",
         "21.224412",
         "39.76923",
         "4",
         "False"
        ],
        [
         "48",
         "2025-06-02",
         "2025-06-17",
         "25",
         "21.224412",
         "39.787197",
         "4",
         "False"
        ],
        [
         "49",
         "2025-06-02",
         "2025-06-17",
         "25",
         "21.224412",
         "39.805163",
         "4",
         "False"
        ]
       ],
       "shape": {
        "columns": 7,
        "rows": 3459
       }
      },
      "text/html": [
       "<div>\n",
       "<style scoped>\n",
       "    .dataframe tbody tr th:only-of-type {\n",
       "        vertical-align: middle;\n",
       "    }\n",
       "\n",
       "    .dataframe tbody tr th {\n",
       "        vertical-align: top;\n",
       "    }\n",
       "\n",
       "    .dataframe thead th {\n",
       "        text-align: right;\n",
       "    }\n",
       "</style>\n",
       "<table border=\"1\" class=\"dataframe\">\n",
       "  <thead>\n",
       "    <tr style=\"text-align: right;\">\n",
       "      <th></th>\n",
       "      <th>dt_placement</th>\n",
       "      <th>dt_prediction</th>\n",
       "      <th>week</th>\n",
       "      <th>x</th>\n",
       "      <th>y</th>\n",
       "      <th>prediction</th>\n",
       "      <th>entomological_features</th>\n",
       "    </tr>\n",
       "  </thead>\n",
       "  <tbody>\n",
       "    <tr>\n",
       "      <th>0</th>\n",
       "      <td>2025-06-02</td>\n",
       "      <td>2025-06-17</td>\n",
       "      <td>25</td>\n",
       "      <td>21.755918</td>\n",
       "      <td>39.571596</td>\n",
       "      <td>6</td>\n",
       "      <td>False</td>\n",
       "    </tr>\n",
       "    <tr>\n",
       "      <th>1</th>\n",
       "      <td>2025-06-02</td>\n",
       "      <td>2025-06-17</td>\n",
       "      <td>25</td>\n",
       "      <td>21.178195</td>\n",
       "      <td>39.607530</td>\n",
       "      <td>3</td>\n",
       "      <td>False</td>\n",
       "    </tr>\n",
       "    <tr>\n",
       "      <th>2</th>\n",
       "      <td>2025-06-02</td>\n",
       "      <td>2025-06-17</td>\n",
       "      <td>25</td>\n",
       "      <td>21.247521</td>\n",
       "      <td>39.625496</td>\n",
       "      <td>5</td>\n",
       "      <td>False</td>\n",
       "    </tr>\n",
       "    <tr>\n",
       "      <th>3</th>\n",
       "      <td>2025-06-02</td>\n",
       "      <td>2025-06-17</td>\n",
       "      <td>25</td>\n",
       "      <td>21.224412</td>\n",
       "      <td>39.427863</td>\n",
       "      <td>5</td>\n",
       "      <td>False</td>\n",
       "    </tr>\n",
       "    <tr>\n",
       "      <th>4</th>\n",
       "      <td>2025-06-02</td>\n",
       "      <td>2025-06-17</td>\n",
       "      <td>25</td>\n",
       "      <td>21.201304</td>\n",
       "      <td>39.661430</td>\n",
       "      <td>4</td>\n",
       "      <td>False</td>\n",
       "    </tr>\n",
       "    <tr>\n",
       "      <th>...</th>\n",
       "      <td>...</td>\n",
       "      <td>...</td>\n",
       "      <td>...</td>\n",
       "      <td>...</td>\n",
       "      <td>...</td>\n",
       "      <td>...</td>\n",
       "      <td>...</td>\n",
       "    </tr>\n",
       "    <tr>\n",
       "      <th>3454</th>\n",
       "      <td>2025-06-02</td>\n",
       "      <td>2025-06-17</td>\n",
       "      <td>25</td>\n",
       "      <td>24.066810</td>\n",
       "      <td>39.302096</td>\n",
       "      <td>7</td>\n",
       "      <td>False</td>\n",
       "    </tr>\n",
       "    <tr>\n",
       "      <th>3455</th>\n",
       "      <td>2025-06-02</td>\n",
       "      <td>2025-06-17</td>\n",
       "      <td>25</td>\n",
       "      <td>24.066810</td>\n",
       "      <td>39.320063</td>\n",
       "      <td>7</td>\n",
       "      <td>False</td>\n",
       "    </tr>\n",
       "    <tr>\n",
       "      <th>3456</th>\n",
       "      <td>2025-06-02</td>\n",
       "      <td>2025-06-17</td>\n",
       "      <td>25</td>\n",
       "      <td>24.066810</td>\n",
       "      <td>39.338029</td>\n",
       "      <td>7</td>\n",
       "      <td>False</td>\n",
       "    </tr>\n",
       "    <tr>\n",
       "      <th>3457</th>\n",
       "      <td>2025-06-02</td>\n",
       "      <td>2025-06-17</td>\n",
       "      <td>25</td>\n",
       "      <td>24.066810</td>\n",
       "      <td>39.355996</td>\n",
       "      <td>7</td>\n",
       "      <td>False</td>\n",
       "    </tr>\n",
       "    <tr>\n",
       "      <th>3458</th>\n",
       "      <td>2025-06-02</td>\n",
       "      <td>2025-06-17</td>\n",
       "      <td>25</td>\n",
       "      <td>24.321008</td>\n",
       "      <td>39.338029</td>\n",
       "      <td>6</td>\n",
       "      <td>False</td>\n",
       "    </tr>\n",
       "  </tbody>\n",
       "</table>\n",
       "<p>3459 rows × 7 columns</p>\n",
       "</div>"
      ],
      "text/plain": [
       "     dt_placement dt_prediction  week          x          y  prediction  \\\n",
       "0      2025-06-02    2025-06-17    25  21.755918  39.571596           6   \n",
       "1      2025-06-02    2025-06-17    25  21.178195  39.607530           3   \n",
       "2      2025-06-02    2025-06-17    25  21.247521  39.625496           5   \n",
       "3      2025-06-02    2025-06-17    25  21.224412  39.427863           5   \n",
       "4      2025-06-02    2025-06-17    25  21.201304  39.661430           4   \n",
       "...           ...           ...   ...        ...        ...         ...   \n",
       "3454   2025-06-02    2025-06-17    25  24.066810  39.302096           7   \n",
       "3455   2025-06-02    2025-06-17    25  24.066810  39.320063           7   \n",
       "3456   2025-06-02    2025-06-17    25  24.066810  39.338029           7   \n",
       "3457   2025-06-02    2025-06-17    25  24.066810  39.355996           7   \n",
       "3458   2025-06-02    2025-06-17    25  24.321008  39.338029           6   \n",
       "\n",
       "      entomological_features  \n",
       "0                      False  \n",
       "1                      False  \n",
       "2                      False  \n",
       "3                      False  \n",
       "4                      False  \n",
       "...                      ...  \n",
       "3454                   False  \n",
       "3455                   False  \n",
       "3456                   False  \n",
       "3457                   False  \n",
       "3458                   False  \n",
       "\n",
       "[3459 rows x 7 columns]"
      ]
     },
     "execution_count": 4,
     "metadata": {},
     "output_type": "execute_result"
    }
   ],
   "source": [
    "df"
   ]
  },
  {
   "cell_type": "code",
   "execution_count": 5,
   "id": "3263abc6",
   "metadata": {},
   "outputs": [
    {
     "data": {
      "text/plain": [
       "1"
      ]
     },
     "execution_count": 5,
     "metadata": {},
     "output_type": "execute_result"
    }
   ],
   "source": [
    "df.prediction.min()"
   ]
  },
  {
   "cell_type": "code",
   "execution_count": 6,
   "id": "9c040bcd",
   "metadata": {},
   "outputs": [
    {
     "data": {
      "text/plain": [
       "8"
      ]
     },
     "execution_count": 6,
     "metadata": {},
     "output_type": "execute_result"
    }
   ],
   "source": [
    "df.prediction.max()"
   ]
  },
  {
   "cell_type": "code",
   "execution_count": 7,
   "id": "0f692b67",
   "metadata": {},
   "outputs": [
    {
     "data": {
      "text/plain": [
       "4"
      ]
     },
     "execution_count": 7,
     "metadata": {},
     "output_type": "execute_result"
    }
   ],
   "source": [
    "count_low = df['prediction'].between(0, 1).sum()\n",
    "count_low"
   ]
  },
  {
   "cell_type": "code",
   "execution_count": 8,
   "id": "93dfd109",
   "metadata": {},
   "outputs": [
    {
     "data": {
      "text/plain": [
       "2554"
      ]
     },
     "execution_count": 8,
     "metadata": {},
     "output_type": "execute_result"
    }
   ],
   "source": [
    "count_mid = df['prediction'].between(2, 5).sum()\n",
    "count_mid"
   ]
  },
  {
   "cell_type": "code",
   "execution_count": 9,
   "id": "fa54c1b3",
   "metadata": {},
   "outputs": [
    {
     "data": {
      "text/plain": [
       "901"
      ]
     },
     "execution_count": 9,
     "metadata": {},
     "output_type": "execute_result"
    }
   ],
   "source": [
    "count_high = df['prediction'].between(6, 9).sum()\n",
    "count_high"
   ]
  },
  {
   "cell_type": "code",
   "execution_count": null,
   "id": "7bc36871",
   "metadata": {},
   "outputs": [],
   "source": []
  }
 ],
 "metadata": {
  "kernelspec": {
   "display_name": "noa_eywa",
   "language": "python",
   "name": "python3"
  },
  "language_info": {
   "codemirror_mode": {
    "name": "ipython",
    "version": 3
   },
   "file_extension": ".py",
   "mimetype": "text/x-python",
   "name": "python",
   "nbconvert_exporter": "python",
   "pygments_lexer": "ipython3",
   "version": "3.11.7"
  }
 },
 "nbformat": 4,
 "nbformat_minor": 5
}
