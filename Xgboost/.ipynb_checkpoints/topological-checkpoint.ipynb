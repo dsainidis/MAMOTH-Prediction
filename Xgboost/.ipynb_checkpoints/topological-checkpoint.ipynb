{
 "cells": [
  {
   "cell_type": "code",
   "execution_count": null,
   "id": "sought-welding",
   "metadata": {},
   "outputs": [],
   "source": [
    "import pandas as pd\n",
    "data = pd.read_csv('/home/iro/Desktop/noa/Culex France/FRANCE_culex_entomological_2007_April_2021.csv')\n",
    "top = data[['stationid','x', 'y', 'WC_L',\n",
    "       'PG_AREA', 'FS_AREA', 'WC_MEAN_DISTANCE', 'COAST_MEAN_DISTANCE', 'DEM',\n",
    "       'ASPECT', 'SLOPE', 'WAW', 'FLOW']]\n",
    "top1 = top.groupby('stationid')['x', 'y', 'WC_L',\n",
    "       'PG_AREA', 'FS_AREA', 'WC_MEAN_DISTANCE', 'COAST_MEAN_DISTANCE', 'DEM',\n",
    "       'ASPECT', 'SLOPE', 'WAW', 'FLOW'].first().reset_index()\n",
    "top1.to_csv('topological_features.csv',index=False)"
   ]
  }
 ],
 "metadata": {
  "kernelspec": {
   "display_name": "Python 3",
   "language": "python",
   "name": "python3"
  },
  "language_info": {
   "codemirror_mode": {
    "name": "ipython",
    "version": 3
   },
   "file_extension": ".py",
   "mimetype": "text/x-python",
   "name": "python",
   "nbconvert_exporter": "python",
   "pygments_lexer": "ipython3",
   "version": "3.8.8"
  }
 },
 "nbformat": 4,
 "nbformat_minor": 5
}
