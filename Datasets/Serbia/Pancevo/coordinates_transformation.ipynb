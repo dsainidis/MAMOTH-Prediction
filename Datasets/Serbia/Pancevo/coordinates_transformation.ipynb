{
 "cells": [
  {
   "cell_type": "code",
   "execution_count": 1,
   "id": "58ab3702",
   "metadata": {},
   "outputs": [],
   "source": [
    "import re\n",
    "import pandas as pd\n",
    "import datetime"
   ]
  },
  {
   "cell_type": "code",
   "execution_count": 2,
   "id": "5948e3a2",
   "metadata": {},
   "outputs": [],
   "source": [
    "def ddm2dec(dms_str):\n",
    "    \"\"\"Return decimal representation of DDM (degree decimal minutes)\n",
    "    \"\"\"\n",
    "   \n",
    "    sign = -1 if re.search('[swSW]', dms_str) else 1\n",
    "    \n",
    "    dms_str = ' '.join(dms_str.split('.'))\n",
    "    \n",
    "    dms_str = dms_str.split(' ')\n",
    "    \n",
    "    numbers = []\n",
    "    for e in dms_str: \n",
    "        numbers.append(*filter(len, re.split('\\D+', e, maxsplit=4)))\n",
    "\n",
    "    degree = numbers[0]\n",
    "    minute_decimal = numbers[1] \n",
    "    decimal_val = numbers[2] if len(numbers) > 2 else '0' \n",
    "    minute_decimal += \".\" + decimal_val\n",
    "\n",
    "    return sign * (int(degree) + float(minute_decimal) / 60)\n"
   ]
  },
  {
   "cell_type": "code",
   "execution_count": 3,
   "id": "cfb74203",
   "metadata": {},
   "outputs": [],
   "source": [
    "data = pd.read_csv('./PANCEVO DATA.csv',encoding= 'unicode_escape')\n",
    "x = []\n",
    "y = []\n",
    "for i in range(len(data)):\n",
    "    dms_str =re.split(' |\\.|,',data.loc[i,'GPS'])\n",
    "    y_cor = dms_str[0]+' '+dms_str[1]+'.'+dms_str[2]\n",
    "    x_cor = dms_str[3]+' '+dms_str[4]+'.'+dms_str[5]\n",
    "    x.append(ddm2dec(x_cor))\n",
    "    y.append(ddm2dec(y_cor))\n",
    "data['x'] = x\n",
    "data['y'] = y\n",
    "for i in range(len(data)):\n",
    "    data.loc[i,'Date'] = re.sub(r'\\.', '-',data['Date'][i][:-1])\n",
    "data['Date'] = pd.to_datetime(data['Date'], format=\"%d-%m-%Y\")\n",
    "data['dt_placement'] = data['Date'] - datetime.timedelta(days=15)\n",
    "data.to_csv('./Datasets/Serbia/Pancevo/PANCEVO DATA_edit.csv',index=False)"
   ]
  }
 ],
 "metadata": {
  "kernelspec": {
   "display_name": "Python 3 (ipykernel)",
   "language": "python",
   "name": "python3"
  },
  "language_info": {
   "codemirror_mode": {
    "name": "ipython",
    "version": 3
   },
   "file_extension": ".py",
   "mimetype": "text/x-python",
   "name": "python",
   "nbconvert_exporter": "python",
   "pygments_lexer": "ipython3",
   "version": "3.10.6"
  }
 },
 "nbformat": 4,
 "nbformat_minor": 5
}
