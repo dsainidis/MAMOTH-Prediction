{
 "cells": [
  {
   "cell_type": "code",
   "execution_count": 13,
   "id": "8840df81",
   "metadata": {},
   "outputs": [],
   "source": [
    "import pandas as pd\n",
    "import os"
   ]
  },
  {
   "cell_type": "code",
   "execution_count": 15,
   "id": "ddfabf20",
   "metadata": {},
   "outputs": [],
   "source": [
    "for case in ['FR_culex', 'FR_aedes', 'GRE', 'GER', 'SER_vojvodina', 'IT_veneto', 'IT_trentino', 'IC']:\n",
    "    date = '2025-05-01'\n",
    "    output_filename = 'new_env_files/' + case + '_env_2025_05_2km.csv'\n",
    "    data = pd.read_csv(case+'_shapefile_2km.csv')\n",
    "    data['dt_placement'] = pd.to_datetime(date, format=\"%Y-%m-%d\")\n",
    "    try:\n",
    "    # Try to save the file directly\n",
    "        data.to_csv(output_filename, index=False)\n",
    "    except OSError:\n",
    "        # If the directory doesn't exist, create it and try again\n",
    "        os.makedirs('new_env_files', exist_ok=True)\n",
    "        data.to_csv(output_filename, index=False)"
   ]
  },
  {
   "cell_type": "code",
   "execution_count": 2,
   "id": "e8aa2b73",
   "metadata": {},
   "outputs": [],
   "source": [
    "# case = 'Greece'\n",
    "# date = '2024-06-01'\n",
    "# output_filename = case+'_env_2024_06_2km.csv'\n",
    "# data = pd.read_csv(case+'_shapefile_2km.csv')\n",
    "# data['dt_placement'] = pd.to_datetime(date, format=\"%Y-%m-%d\")\n",
    "# data = data[data['region']=='THESSALY']\n",
    "# data.to_csv(output_filename, index=False)"
   ]
  },
  {
   "cell_type": "code",
   "execution_count": null,
   "id": "67ac7d11",
   "metadata": {},
   "outputs": [],
   "source": []
  }
 ],
 "metadata": {
  "kernelspec": {
   "display_name": "noa_eywa",
   "language": "python",
   "name": "python3"
  },
  "language_info": {
   "codemirror_mode": {
    "name": "ipython",
    "version": 3
   },
   "file_extension": ".py",
   "mimetype": "text/x-python",
   "name": "python",
   "nbconvert_exporter": "python",
   "pygments_lexer": "ipython3",
   "version": "3.11.7"
  }
 },
 "nbformat": 4,
 "nbformat_minor": 5
}
