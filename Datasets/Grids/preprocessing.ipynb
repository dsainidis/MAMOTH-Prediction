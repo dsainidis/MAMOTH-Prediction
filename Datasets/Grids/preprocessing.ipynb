{
 "cells": [
  {
   "cell_type": "code",
   "execution_count": 2,
   "id": "94632d46",
   "metadata": {},
   "outputs": [],
   "source": [
    "import pandas as pd\n",
    "import datetime"
   ]
  },
  {
   "cell_type": "code",
   "execution_count": null,
   "id": "12299ce6",
   "metadata": {},
   "outputs": [
    {
     "name": "stdout",
     "output_type": "stream",
     "text": [
      "GRE_culex_ento_2025_05.csv\n"
     ]
    }
   ],
   "source": [
    "# Greece Culex data processing script\n",
    "\n",
    "basepath = '../Greece/monthly_data/'\n",
    "file_name = 'Ecodev_traps_NOA_2025_week_22.csv'\n",
    "input_file = basepath + file_name\n",
    "\n",
    "output_file_name = 'GRE_culex_2025_05.csv'\n",
    "parts = output_file_name.split('_')\n",
    "output_file_ento = f\"{parts[0]}_{parts[1]}_ento_{parts[2]}_{parts[3]}\"\n",
    "print(output_file_ento)\n",
    "\n",
    "dataframe = pd.read_csv(input_file)\n",
    "dataframe.columns = [c.lower() for c in dataframe.columns]\n",
    "dataframe.drop(columns=['dt_placement'], inplace=True)\n",
    "dataframe.rename(columns={'date':'dt_placement',\n",
    "                          'code':'unique_code',\n",
    "                          'traptype': 'trap_type',\n",
    "                          'cx. pipiens ':'culex pipiens'}, inplace=True)\n",
    "\n",
    "if dataframe['x'].dtype == 'object':\n",
    "    dataframe['x'] = dataframe['x'].astype(float)\n",
    "dataframe['x'] = dataframe.x.apply(lambda x: round(x, 6))\n",
    "\n",
    "if dataframe['y'].dtype == 'object':\n",
    "    dataframe['y'] = dataframe['y'].astype(float)\n",
    "dataframe['y'] = dataframe.y.apply(lambda y: round(y, 6))\n",
    "\n",
    "dataframe['culex spp.'] = dataframe['culex pipiens']\n",
    "dataframe['id'] = dataframe['id'].str.extract(r'^(\\d+)')\n",
    "dataframe = dataframe.dropna(how='all').reset_index(drop=True)\n",
    "dataframe['region'] = dataframe['nuts2_name']\n",
    "\n",
    "dataframe.to_csv(basepath + output_file_name, index=False)\n",
    "\n",
    "dataframe['dt_placement'] = pd.to_datetime(dataframe.dt_placement, format=\"%d-%m-%y\")\n",
    "dataframe['dt_placement_original'] = dataframe['dt_placement']\n",
    "dataframe['dt_placement'] = dataframe['dt_placement'] - datetime.timedelta(days=15)\n",
    "\n",
    "dataframe.to_csv(basepath + output_file_ento, index=False)"
   ]
  },
  {
   "cell_type": "code",
   "execution_count": null,
   "id": "0a774b97",
   "metadata": {},
   "outputs": [
    {
     "name": "stdout",
     "output_type": "stream",
     "text": [
      "IT_trentino_aedes_ento_2025_05.csv\n"
     ]
    }
   ],
   "source": [
    "# Process Aedes data for Trentino, Italy#\n",
    "\n",
    "basepath = '../Italy/Trentino/Aedes/monthly_data/'\n",
    "file_name = 'EYWA_ento_data_template_Aedes_TRENTINO_ITALY_MAY_2025.csv'\n",
    "input_file = basepath + file_name\n",
    "\n",
    "output_file_name = 'IT_trentino_aedes_2025_05.csv'\n",
    "parts = output_file_name.split('_')\n",
    "output_file_ento = f\"{parts[0]}_{parts[1]}_{parts[2]}_ento_{parts[3]}_{parts[4]}\"\n",
    "print(output_file_ento)\n",
    "\n",
    "dataframe = pd.read_csv(input_file, skiprows=[0, 2])\n",
    "dataframe.columns = [c.lower() for c in dataframe.columns]\n",
    "\n",
    "dataframe['x'] = dataframe.long.apply(lambda x: round(x, 6))\n",
    "dataframe['y'] = dataframe.lat.apply(lambda y: round(y, 6))\n",
    "\n",
    "dataframe.drop(columns=['lat', 'long'], inplace=True)\n",
    "dataframe['dt_placement'] = pd.to_datetime(dataframe.dt_placement, format=\"%d-%m-%y\")\n",
    "dataframe['month'] = pd.to_datetime(dataframe.dt_placement).dt.month\n",
    "dataframe = dataframe.dropna(how='all').reset_index(drop=True)\n",
    "dataframe['region'] = 'Italy'\n",
    "# Replace year (false year in the original file)\n",
    "dataframe['dt_placement'] = dataframe['dt_placement'].apply(lambda x: x.replace(year=2025))\n",
    "\n",
    "dataframe.to_csv(basepath + output_file_name, index=False)\n",
    "\n",
    "dataframe['dt_placement'] = pd.to_datetime(dataframe.dt_placement, format='%Y-%m-%d')\n",
    "dataframe['dt_placement_original'] = dataframe['dt_placement']\n",
    "dataframe['dt_placement'] = dataframe['dt_placement'] - datetime.timedelta(days=15)\n",
    "\n",
    "dataframe.to_csv(basepath + output_file_ento, index=False)"
   ]
  },
  {
   "cell_type": "code",
   "execution_count": null,
   "id": "bec1db54",
   "metadata": {
    "scrolled": true
   },
   "outputs": [
    {
     "name": "stdout",
     "output_type": "stream",
     "text": [
      "IT_trentino_anopheles_ento_2025_05.csv\n"
     ]
    }
   ],
   "source": [
    "# Process Anopheles data for Trentino, Italy\n",
    "\n",
    "basepath = '../Italy/Trentino/Anopheles/monthly_data/'\n",
    "file_name = 'EYWA_ento_data_template_Anopheles_TRENTINO_ITALY_MAY_2025.csv'\n",
    "input_file = basepath + file_name\n",
    "\n",
    "output_file_name = 'IT_trentino_anopheles_2025_05.csv'\n",
    "parts = output_file_name.split('_')\n",
    "output_file_ento = f\"{parts[0]}_{parts[1]}_{parts[2]}_ento_{parts[3]}_{parts[4]}\"\n",
    "print(output_file_ento)\n",
    "\n",
    "dataframe = pd.read_csv(input_file, skiprows=[0, 2])\n",
    "dataframe.columns = [c.lower() for c in dataframe.columns]\n",
    "\n",
    "dataframe['x'] = dataframe.long.apply(lambda x: round(x, 6))\n",
    "dataframe['y'] = dataframe.lat.apply(lambda y: round(y, 6))\n",
    "\n",
    "dataframe.drop(columns=['lat', 'long'], inplace=True)\n",
    "dataframe['dt_placement'] = pd.to_datetime(dataframe.dt_placement, format=\"%d-%m-%y\")\n",
    "dataframe['month'] = pd.to_datetime(dataframe.dt_placement).dt.month\n",
    "dataframe['anopheles_total'] = dataframe['anopheles sp.']\n",
    "dataframe.drop(columns=['anopheles sp.'], inplace=True)\n",
    "dataframe = dataframe.dropna(how='all').reset_index(drop=True)\n",
    "dataframe['region'] = 'Italy'\n",
    "# Replace year (false year in the original file)\n",
    "dataframe['dt_placement'] = dataframe['dt_placement'].apply(lambda x: x.replace(year=2025))\n",
    "\n",
    "dataframe.to_csv(basepath + output_file_name, index=False)\n",
    "\n",
    "dataframe['dt_placement'] = pd.to_datetime(dataframe.dt_placement, format='%Y-%m-%d')\n",
    "dataframe['dt_placement_original'] = dataframe['dt_placement']\n",
    "dataframe['dt_placement'] = dataframe['dt_placement'] - datetime.timedelta(days=15)\n",
    "dataframe.to_csv(basepath + output_file_ento, index=False)"
   ]
  },
  {
   "cell_type": "code",
   "execution_count": null,
   "id": "9c23bc34",
   "metadata": {},
   "outputs": [
    {
     "name": "stdout",
     "output_type": "stream",
     "text": [
      "IT_trentino_culex_ento_2025_05.csv\n"
     ]
    }
   ],
   "source": [
    "# Process Culex data for Trentino, Italy\n",
    "\n",
    "basepath = '../Italy/Trentino/Culex/monthly_data/'\n",
    "file_name = 'EYWA_ento_data_template_Culex_TRENTINO_ITALY_MAY_2025.csv'\n",
    "input_file = basepath + file_name\n",
    "\n",
    "output_file_name = 'IT_trentino_culex_2025_05.csv'\n",
    "parts = output_file_name.split('_')\n",
    "output_file_ento = f\"{parts[0]}_{parts[1]}_{parts[2]}_ento_{parts[3]}_{parts[4]}\"\n",
    "print(output_file_ento)\n",
    "\n",
    "dataframe = pd.read_csv(input_file,skiprows=[0, 2])\n",
    "dataframe.columns = [c.lower() for c in dataframe.columns]\n",
    "\n",
    "dataframe['x'] = dataframe.long.apply(lambda x: round(x, 6))\n",
    "dataframe['y'] = dataframe.lat.apply(lambda y: round(y, 6))\n",
    "\n",
    "dataframe.drop(columns=['lat', 'long'], inplace=True)\n",
    "dataframe['dt_placement'] = pd.to_datetime(dataframe.dt_placement, format=\"%d-%m-%y\")\n",
    "dataframe['month'] = pd.to_datetime(dataframe.dt_placement).dt.month\n",
    "dataframe['culex.spp'] = dataframe['culex pipiens']\n",
    "dataframe = dataframe.dropna(how='all').reset_index(drop=True)\n",
    "dataframe['region'] = 'Italy'\n",
    "# Replace year (false year in the original file)\n",
    "dataframe['dt_placement'] = dataframe['dt_placement'].apply(lambda x: x.replace(year=2025))\n",
    "\n",
    "dataframe.to_csv(basepath + output_file_name, index=False)\n",
    "\n",
    "dataframe['dt_placement'] = pd.to_datetime(dataframe.dt_placement, format='%Y-%m-%d')\n",
    "dataframe['dt_placement_original'] = dataframe['dt_placement']\n",
    "dataframe['dt_placement'] = dataframe['dt_placement'] - datetime.timedelta(days=15)\n",
    "dataframe.to_csv(basepath + output_file_ento, index=False)"
   ]
  },
  {
   "cell_type": "code",
   "execution_count": null,
   "id": "f33ee2b9",
   "metadata": {},
   "outputs": [
    {
     "name": "stdout",
     "output_type": "stream",
     "text": [
      "IT_veneto_anopheles_ento_2025_05.csv\n"
     ]
    }
   ],
   "source": [
    "# Process Anopheles data for Veneto region\n",
    "\n",
    "basepath = '../Italy/Veneto/Anopheles/monthly_data/'\n",
    "file_name = 'EYWA_ento_data_template_anopheles MAY.csv'\n",
    "input_file = basepath + file_name\n",
    "\n",
    "output_file_name = 'IT_veneto_anopheles_2025_05.csv'\n",
    "parts = output_file_name.split('_')\n",
    "output_file_ento = f\"{parts[0]}_{parts[1]}_{parts[2]}_ento_{parts[3]}_{parts[4]}\"\n",
    "print(output_file_ento)\n",
    "\n",
    "dataframe = pd.read_csv(input_file, encoding=\"ISO-8859-1\")\n",
    "dataframe['x_new'] = dataframe.y.apply(lambda y: round(y, 6))\n",
    "dataframe['y_new'] = dataframe.x.apply(lambda x: round(x, 6))\n",
    "dataframe['x'] = dataframe['x_new']\n",
    "dataframe['y'] = dataframe['y_new']\n",
    "dataframe.columns = [c.lower() for c in dataframe.columns]\n",
    "dataframe.drop(columns=['x_new', 'y_new'], inplace=True)\n",
    "dataframe['dt_placement'] = pd.to_datetime(dataframe.dt_placement, format='%d-%m-%y')\n",
    "\n",
    "anopheles_cols = [c for c in  dataframe.columns if 'anopheles' in c]\n",
    "dataframe['anopheles_total'] = dataframe[anopheles_cols].sum(axis=1)\n",
    "dataframe['region'] = 'Veneto'\n",
    "\n",
    "dataframe.to_csv(basepath + output_file_name, index=False)\n",
    "\n",
    "dataframe['dt_placement'] = pd.to_datetime(dataframe.dt_placement, format='%Y-%m-%d')\n",
    "dataframe['dt_placement_original'] = dataframe['dt_placement']\n",
    "dataframe['dt_placement'] = dataframe['dt_placement'] - datetime.timedelta(days=15)\n",
    "\n",
    "dataframe.to_csv(basepath + output_file_ento, index=False)"
   ]
  },
  {
   "cell_type": "code",
   "execution_count": null,
   "id": "99b9fdb8",
   "metadata": {},
   "outputs": [
    {
     "name": "stdout",
     "output_type": "stream",
     "text": [
      "IT_veneto_culex_ento_2025_05.csv\n"
     ]
    }
   ],
   "source": [
    "# Process Culex data for Veneto\n",
    "\n",
    "basepath = '../Italy/Veneto/Culex/monthly_data/'\n",
    "file_name = 'EYWA_ento_data_template_culex MAY.csv'\n",
    "input_file = basepath + file_name\n",
    "\n",
    "output_file_name = 'IT_veneto_culex_2025_05.csv'\n",
    "parts = output_file_name.split('_')\n",
    "output_file_ento = f\"{parts[0]}_{parts[1]}_{parts[2]}_ento_{parts[3]}_{parts[4]}\"\n",
    "print(output_file_ento)\n",
    "\n",
    "dataframe = pd.read_csv(input_file, encoding=\"ISO-8859-1\")\n",
    "dataframe['x_new'] = dataframe.y.apply(lambda y: round(y, 6))\n",
    "dataframe['y_new'] = dataframe.x.apply(lambda x: round(x, 6))\n",
    "dataframe['x'] = dataframe['x_new']\n",
    "dataframe['y'] = dataframe['y_new']\n",
    "dataframe.drop(columns=['x_new', 'y_new'], inplace=True)\n",
    "dataframe.columns = [c.lower() for c in dataframe.columns]\n",
    "dataframe['dt_placement'] = pd.to_datetime(dataframe.dt_placement, format='%d-%m-%y')\n",
    "\n",
    "dataframe['culex.spp'] = dataframe['culex pipiens']\n",
    "dataframe['culex.pipiens'] = dataframe['culex pipiens']\n",
    "dataframe.drop(columns=['culex pipiens', 'culex spp.'], inplace=True)\n",
    "dataframe['region'] = 'Veneto'\n",
    "\n",
    "dataframe.to_csv(basepath + output_file_name, index=False)\n",
    "\n",
    "dataframe['dt_placement'] = pd.to_datetime(dataframe.dt_placement, format='%Y-%m-%d')\n",
    "dataframe['dt_placement_original'] = dataframe['dt_placement']\n",
    "dataframe['dt_placement'] = dataframe['dt_placement'] - datetime.timedelta(days=15)\n",
    "\n",
    "dataframe.to_csv(basepath + output_file_ento, index=False)"
   ]
  },
  {
   "cell_type": "code",
   "execution_count": null,
   "id": "1adb8ab1",
   "metadata": {},
   "outputs": [
    {
     "name": "stdout",
     "output_type": "stream",
     "text": [
      "SER_vojvodina_culex_ento_2025_05.csv\n"
     ]
    }
   ],
   "source": [
    "# Serbia Vojvodina Culex adults data processing\n",
    "\n",
    "basepath = '../Serbia/Vojvodina/monthly_data/'\n",
    "file_name = 'Culex pipiens adults (12.05.-15.05.2025.).csv'\n",
    "input_file = basepath + file_name\n",
    "\n",
    "output_file_name = 'SER_vojvodina_culex_2025_05.csv'\n",
    "parts = output_file_name.split('_')\n",
    "output_file_ento = f\"{parts[0]}_{parts[1]}_{parts[2]}_ento_{parts[3]}_{parts[4]}\"\n",
    "print(output_file_ento)\n",
    "\n",
    "dataframe = pd.read_csv(input_file)\n",
    "dataframe.columns = [c.lower() for c in dataframe.columns]\n",
    "dataframe.rename(columns={'latitude':'y',\n",
    "                          'longitude': 'x',\n",
    "                          'sampling day':'dt_placement',\n",
    "                          'cx. pipiens no of adults in trap ':'culex.spp',\n",
    "                          'location':'station_id'}, inplace=True)\n",
    "\n",
    "if dataframe['x'].dtype == 'object':\n",
    "    dataframe['x'] = dataframe['x'].astype(float)\n",
    "dataframe['x'] = dataframe.x.apply(lambda x: round(x, 6))\n",
    "\n",
    "if dataframe['y'].dtype == 'object':\n",
    "    dataframe['y'] = dataframe['y'].astype(float)\n",
    "dataframe['y'] = dataframe.y.apply(lambda y: round(y, 6))\n",
    "\n",
    "dataframe = dataframe.dropna(how='all').reset_index(drop=True)\n",
    "dataframe['dt_placement'] = dataframe['dt_placement'].str.strip()\n",
    "dataframe['dt_placement'] = dataframe['dt_placement'].str.split(' ').apply(lambda x : pd.to_datetime(str(x[2])+'-'+str(x[1])+'-'+str(x[0].split('-')[0])))\n",
    "dataframe['week'] = dataframe['dt_placement'].dt.isocalendar().week\n",
    "dataframe['region'] = 'Vojvodina'\n",
    "dataframe.to_csv(basepath + output_file_name, index=False)\n",
    "\n",
    "dataframe['dt_placement'] = pd.to_datetime(dataframe.dt_placement, format='%Y-%m-%d')\n",
    "dataframe['dt_placement_original'] = dataframe['dt_placement']\n",
    "dataframe['dt_placement'] = dataframe['dt_placement'] - datetime.timedelta(days=15)\n",
    "dataframe.to_csv(basepath + output_file_ento, index=False)"
   ]
  },
  {
   "cell_type": "code",
   "execution_count": null,
   "id": "0889c78b",
   "metadata": {},
   "outputs": [
    {
     "name": "stdout",
     "output_type": "stream",
     "text": [
      "GER_culex_ento_2025_05.csv\n"
     ]
    }
   ],
   "source": [
    "# Process Culex data for Germany\n",
    "\n",
    "basepath = '../Germany/monthly_data/'\n",
    "file_name = 'Culex KABS2025-5_may.csv'\n",
    "input_file = basepath + file_name\n",
    "\n",
    "output_file_name = 'GER_culex_2025_05.csv'\n",
    "parts = output_file_name.split('_')\n",
    "output_file_ento = f\"{parts[0]}_{parts[1]}_ento_{parts[2]}_{parts[3]}\"\n",
    "print(output_file_ento)\n",
    "\n",
    "dataframe = pd.read_csv(input_file, skiprows=[0], encoding=\"ISO-8859-1\")\n",
    "dataframe['x'] = dataframe.x.apply(lambda x: round(x, 6))\n",
    "dataframe['y'] = dataframe.y.apply(lambda y: round(y, 6))\n",
    "dataframe.columns = [c.lower() for c in dataframe.columns]\n",
    "dataframe['dt_placement'] = pd.to_datetime(dataframe.dt_placement, format=\"%d-%m-%y\")\n",
    "dataframe['month'] = dataframe['dt_placement'].dt.month\n",
    "dataframe['year'] = dataframe['dt_placement'].dt.year\n",
    "dataframe = dataframe.dropna(how='all').reset_index(drop=True)\n",
    "dataframe = dataframe.dropna(subset=['dt_placement']).reset_index(drop=True)\n",
    "dataframe['region'] = 'Upper Rhine'\n",
    "dataframe['culex.spp'] = dataframe['culex spp.']\n",
    "dataframe['culex.pipiens'] = dataframe['culex pipiens']\n",
    "dataframe.drop(columns=['culex pipiens', 'culex spp.'], inplace=True)\n",
    "dataframe['region'] = 'Germany'\n",
    "\n",
    "dataframe.to_csv(basepath + output_file_name, index=False)\n",
    "\n",
    "dataframe['dt_placement'] = pd.to_datetime(dataframe.dt_placement, format='%Y-%m-%d')\n",
    "dataframe['dt_placement_original'] = dataframe['dt_placement']\n",
    "dataframe['dt_placement'] = dataframe['dt_placement'] - datetime.timedelta(days=15)\n",
    "\n",
    "dataframe.to_csv(basepath + output_file_ento, index=False)"
   ]
  },
  {
   "cell_type": "code",
   "execution_count": null,
   "id": "536d1a59",
   "metadata": {},
   "outputs": [],
   "source": []
  }
 ],
 "metadata": {
  "kernelspec": {
   "display_name": "noa_eywa",
   "language": "python",
   "name": "python3"
  },
  "language_info": {
   "codemirror_mode": {
    "name": "ipython",
    "version": 3
   },
   "file_extension": ".py",
   "mimetype": "text/x-python",
   "name": "python",
   "nbconvert_exporter": "python",
   "pygments_lexer": "ipython3",
   "version": "3.11.7"
  }
 },
 "nbformat": 4,
 "nbformat_minor": 5
}
